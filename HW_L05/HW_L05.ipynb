{
 "cells": [
  {
   "cell_type": "markdown",
   "metadata": {
    "colab_type": "text",
    "id": "Etw9Yh252Hdn"
   },
   "source": [
    "## HomeWork к уроку 5 \n",
    "\n",
    "> **\"Первая нейронная сеть на Tensorflow\"** \n"
   ]
  },
  {
   "cell_type": "code",
   "execution_count": 1,
   "metadata": {
    "colab": {},
    "colab_type": "code",
    "id": "QlnAmOdusncf"
   },
   "outputs": [],
   "source": [
    "# %tensorflow_version 2.x\n",
    "%load_ext tensorboard\n",
    "import tensorflow as tf\n",
    "from tensorflow import keras\n",
    "import tensorflow.keras.layers as layers\n",
    "import tensorflow.keras.callbacks as callbacks\n",
    "import numpy as np\n",
    "import matplotlib.pyplot as plt"
   ]
  },
  {
   "cell_type": "markdown",
   "metadata": {},
   "source": [
    "<b>Настройка GPU</b>"
   ]
  },
  {
   "cell_type": "code",
   "execution_count": 2,
   "metadata": {},
   "outputs": [
    {
     "data": {
      "text/plain": [
       "[PhysicalDevice(name='/physical_device:GPU:3', device_type='GPU')]"
      ]
     },
     "execution_count": 2,
     "metadata": {},
     "output_type": "execute_result"
    }
   ],
   "source": [
    "# кастомные настройки\n",
    "# установка GPU на котором будем работать\n",
    "gpus = tf.config.experimental.list_physical_devices('GPU')\n",
    "tf.config.set_visible_devices(gpus[3], 'GPU')\n",
    "tf.config.get_visible_devices('GPU')"
   ]
  },
  {
   "cell_type": "markdown",
   "metadata": {},
   "source": [
    "##### Загрузка данных\n",
    "<b>Загрузка данных</b>"
   ]
  },
  {
   "cell_type": "code",
   "execution_count": 143,
   "metadata": {
    "colab": {
     "base_uri": "https://localhost:8080/",
     "height": 323
    },
    "colab_type": "code",
    "id": "fNqXem9Ss7d9",
    "outputId": "6b617354-f6c8-40e6-e8c8-9ac174cfac77"
   },
   "outputs": [],
   "source": [
    "(__x_train, y_train), (__x_test, y_test) = keras.datasets.fashion_mnist.load_data()"
   ]
  },
  {
   "cell_type": "code",
   "execution_count": 144,
   "metadata": {},
   "outputs": [],
   "source": [
    "# предобработка \n",
    "x_train = (np.reshape(__x_train, (__x_train.shape[0], -1)) / 255. - 0.5) * 2\n",
    "x_test = (np.reshape(__x_test, (__x_test.shape[0], -1)) / 255. - 0.5) * 2"
   ]
  },
  {
   "cell_type": "markdown",
   "metadata": {
    "colab_type": "text",
    "id": "TYwjMeaY2M_M"
   },
   "source": [
    "## Код для создания и обучения модели\n",
    "\n",
    "**Важно!** Вы можете менять код функции `get_model`, если хотите получить лучшие результаты или просто поэксперементировать."
   ]
  },
  {
   "cell_type": "code",
   "execution_count": 5,
   "metadata": {
    "colab": {},
    "colab_type": "code",
    "id": "ur49cPRjttvy"
   },
   "outputs": [],
   "source": [
    "def get_model(n_classes):\n",
    "  activation = 'tanh'\n",
    "  units = 256\n",
    "  model = keras.Sequential([\n",
    "    layers.Dense(units, activation=activation),\n",
    "    layers.Dense(units, activation=activation),\n",
    "    layers.Dense(n_classes, activation='softmax')])\n",
    "  return model"
   ]
  },
  {
   "cell_type": "code",
   "execution_count": 6,
   "metadata": {
    "colab": {},
    "colab_type": "code",
    "id": "WS06ZPt6ttoI"
   },
   "outputs": [],
   "source": [
    "model = get_model(10)\n",
    "model.compile(optimizer=keras.optimizers.SGD(learning_rate=0.01),\n",
    "              metrics=['accuracy'],\n",
    "              loss='sparse_categorical_crossentropy')"
   ]
  },
  {
   "cell_type": "code",
   "execution_count": 7,
   "metadata": {
    "colab": {},
    "colab_type": "code",
    "id": "ZEpYrV2CttiK"
   },
   "outputs": [
    {
     "name": "stdout",
     "output_type": "stream",
     "text": [
      "Epoch 1/100\n",
      "469/469 [==============================] - 2s 5ms/step - loss: 0.7611 - accuracy: 0.7461 - val_loss: 0.5792 - val_accuracy: 0.7970\n",
      "Epoch 2/100\n",
      "469/469 [==============================] - 2s 4ms/step - loss: 0.5187 - accuracy: 0.8180 - val_loss: 0.5165 - val_accuracy: 0.8144\n",
      "Epoch 3/100\n",
      "469/469 [==============================] - 3s 5ms/step - loss: 0.4704 - accuracy: 0.8334 - val_loss: 0.4839 - val_accuracy: 0.8295\n",
      "Epoch 4/100\n",
      "469/469 [==============================] - 2s 5ms/step - loss: 0.4431 - accuracy: 0.8436 - val_loss: 0.4706 - val_accuracy: 0.8308\n",
      "Epoch 5/100\n",
      "469/469 [==============================] - 3s 5ms/step - loss: 0.4242 - accuracy: 0.8500 - val_loss: 0.4484 - val_accuracy: 0.8387\n",
      "Epoch 6/100\n",
      "469/469 [==============================] - 2s 5ms/step - loss: 0.4096 - accuracy: 0.8558 - val_loss: 0.4434 - val_accuracy: 0.8425\n",
      "Epoch 7/100\n",
      "469/469 [==============================] - 2s 5ms/step - loss: 0.3979 - accuracy: 0.8596 - val_loss: 0.4296 - val_accuracy: 0.8470\n",
      "Epoch 8/100\n",
      "469/469 [==============================] - 2s 5ms/step - loss: 0.3884 - accuracy: 0.8633 - val_loss: 0.4220 - val_accuracy: 0.8479\n",
      "Epoch 9/100\n",
      "469/469 [==============================] - 3s 6ms/step - loss: 0.3794 - accuracy: 0.8662 - val_loss: 0.4167 - val_accuracy: 0.8501\n",
      "Epoch 10/100\n",
      "469/469 [==============================] - 2s 5ms/step - loss: 0.3718 - accuracy: 0.8681 - val_loss: 0.4147 - val_accuracy: 0.8517\n",
      "Epoch 11/100\n",
      "469/469 [==============================] - 3s 6ms/step - loss: 0.3654 - accuracy: 0.8711 - val_loss: 0.4072 - val_accuracy: 0.8531\n",
      "Epoch 12/100\n",
      "469/469 [==============================] - 2s 5ms/step - loss: 0.3591 - accuracy: 0.8727 - val_loss: 0.4006 - val_accuracy: 0.8552\n",
      "Epoch 13/100\n",
      "469/469 [==============================] - 2s 5ms/step - loss: 0.3531 - accuracy: 0.8753 - val_loss: 0.3955 - val_accuracy: 0.8589\n",
      "Epoch 14/100\n",
      "469/469 [==============================] - 2s 4ms/step - loss: 0.3481 - accuracy: 0.8773 - val_loss: 0.3929 - val_accuracy: 0.8590\n",
      "Epoch 15/100\n",
      "469/469 [==============================] - 2s 5ms/step - loss: 0.3426 - accuracy: 0.8791 - val_loss: 0.3907 - val_accuracy: 0.8595\n",
      "Epoch 16/100\n",
      "469/469 [==============================] - 2s 4ms/step - loss: 0.3380 - accuracy: 0.8803 - val_loss: 0.3876 - val_accuracy: 0.8634\n",
      "Epoch 17/100\n",
      "469/469 [==============================] - 2s 5ms/step - loss: 0.3333 - accuracy: 0.8816 - val_loss: 0.3866 - val_accuracy: 0.8615\n",
      "Epoch 18/100\n",
      "469/469 [==============================] - 2s 5ms/step - loss: 0.3296 - accuracy: 0.8831 - val_loss: 0.3809 - val_accuracy: 0.8640\n",
      "Epoch 19/100\n",
      "469/469 [==============================] - 2s 4ms/step - loss: 0.3255 - accuracy: 0.8848 - val_loss: 0.3771 - val_accuracy: 0.8649\n",
      "Epoch 20/100\n",
      "469/469 [==============================] - 2s 5ms/step - loss: 0.3215 - accuracy: 0.8856 - val_loss: 0.3733 - val_accuracy: 0.8676\n",
      "Epoch 21/100\n",
      "469/469 [==============================] - 2s 5ms/step - loss: 0.3179 - accuracy: 0.8881 - val_loss: 0.3731 - val_accuracy: 0.8649\n",
      "Epoch 22/100\n",
      "469/469 [==============================] - 2s 5ms/step - loss: 0.3142 - accuracy: 0.8890 - val_loss: 0.3715 - val_accuracy: 0.8685\n",
      "Epoch 23/100\n",
      "469/469 [==============================] - 2s 5ms/step - loss: 0.3107 - accuracy: 0.8896 - val_loss: 0.3714 - val_accuracy: 0.8672\n",
      "Epoch 24/100\n",
      "469/469 [==============================] - 2s 5ms/step - loss: 0.3075 - accuracy: 0.8908 - val_loss: 0.3639 - val_accuracy: 0.8697\n",
      "Epoch 25/100\n",
      "469/469 [==============================] - 2s 5ms/step - loss: 0.3042 - accuracy: 0.8915 - val_loss: 0.3636 - val_accuracy: 0.8704\n",
      "Epoch 26/100\n",
      "469/469 [==============================] - 3s 5ms/step - loss: 0.3010 - accuracy: 0.8927 - val_loss: 0.3614 - val_accuracy: 0.8718\n",
      "Epoch 27/100\n",
      "469/469 [==============================] - 3s 5ms/step - loss: 0.2978 - accuracy: 0.8943 - val_loss: 0.3635 - val_accuracy: 0.8693\n",
      "Epoch 28/100\n",
      "469/469 [==============================] - 2s 5ms/step - loss: 0.2948 - accuracy: 0.8953 - val_loss: 0.3551 - val_accuracy: 0.8729\n",
      "Epoch 29/100\n",
      "469/469 [==============================] - 2s 5ms/step - loss: 0.2919 - accuracy: 0.8961 - val_loss: 0.3549 - val_accuracy: 0.8745\n",
      "Epoch 30/100\n",
      "469/469 [==============================] - 2s 4ms/step - loss: 0.2887 - accuracy: 0.8971 - val_loss: 0.3548 - val_accuracy: 0.8740\n",
      "Epoch 31/100\n",
      "469/469 [==============================] - 2s 5ms/step - loss: 0.2866 - accuracy: 0.8978 - val_loss: 0.3513 - val_accuracy: 0.8754\n",
      "Epoch 32/100\n",
      "469/469 [==============================] - 2s 5ms/step - loss: 0.2834 - accuracy: 0.8991 - val_loss: 0.3523 - val_accuracy: 0.8735\n",
      "Epoch 33/100\n",
      "469/469 [==============================] - 2s 5ms/step - loss: 0.2814 - accuracy: 0.8990 - val_loss: 0.3511 - val_accuracy: 0.8734\n",
      "Epoch 34/100\n",
      "469/469 [==============================] - 2s 5ms/step - loss: 0.2786 - accuracy: 0.9014 - val_loss: 0.3480 - val_accuracy: 0.8757\n",
      "Epoch 35/100\n",
      "469/469 [==============================] - 2s 4ms/step - loss: 0.2759 - accuracy: 0.9017 - val_loss: 0.3450 - val_accuracy: 0.8763\n",
      "Epoch 36/100\n",
      "469/469 [==============================] - 2s 4ms/step - loss: 0.2735 - accuracy: 0.9021 - val_loss: 0.3477 - val_accuracy: 0.8753\n",
      "Epoch 37/100\n",
      "469/469 [==============================] - 2s 4ms/step - loss: 0.2708 - accuracy: 0.9027 - val_loss: 0.3437 - val_accuracy: 0.8782\n",
      "Epoch 38/100\n",
      "469/469 [==============================] - 3s 5ms/step - loss: 0.2686 - accuracy: 0.9042 - val_loss: 0.3473 - val_accuracy: 0.8768\n",
      "Epoch 39/100\n",
      "469/469 [==============================] - 2s 5ms/step - loss: 0.2663 - accuracy: 0.9053 - val_loss: 0.3478 - val_accuracy: 0.8754\n",
      "Epoch 40/100\n",
      "469/469 [==============================] - 2s 5ms/step - loss: 0.2636 - accuracy: 0.9067 - val_loss: 0.3400 - val_accuracy: 0.8796\n",
      "Epoch 41/100\n",
      "469/469 [==============================] - 2s 5ms/step - loss: 0.2615 - accuracy: 0.9064 - val_loss: 0.3406 - val_accuracy: 0.8786\n",
      "Epoch 42/100\n",
      "469/469 [==============================] - 2s 5ms/step - loss: 0.2583 - accuracy: 0.9076 - val_loss: 0.3378 - val_accuracy: 0.8801\n",
      "Epoch 43/100\n",
      "469/469 [==============================] - 2s 5ms/step - loss: 0.2564 - accuracy: 0.9086 - val_loss: 0.3365 - val_accuracy: 0.8815\n",
      "Epoch 44/100\n",
      "469/469 [==============================] - 2s 5ms/step - loss: 0.2546 - accuracy: 0.9094 - val_loss: 0.3441 - val_accuracy: 0.8753\n",
      "Epoch 45/100\n",
      "469/469 [==============================] - 2s 5ms/step - loss: 0.2522 - accuracy: 0.9100 - val_loss: 0.3506 - val_accuracy: 0.8747\n",
      "Epoch 46/100\n",
      "469/469 [==============================] - 3s 6ms/step - loss: 0.2502 - accuracy: 0.9111 - val_loss: 0.3371 - val_accuracy: 0.8812\n"
     ]
    }
   ],
   "source": [
    "early_stopping = callbacks.EarlyStopping(min_delta=0.001, patience=3, \n",
    "                                         restore_best_weights=True)\n",
    "\n",
    "tensorboard = tf.keras.callbacks.TensorBoard(log_dir='logs/'+ 'base_model')\n",
    "\n",
    "epochs = 100\n",
    "batch_size = 128\n",
    "histrory = model.fit(x_train, y_train, \n",
    "                      validation_data=(x_test, y_test),\n",
    "                      epochs=epochs,\n",
    "                      batch_size=batch_size,\n",
    "                      callbacks=[early_stopping])"
   ]
  },
  {
   "cell_type": "markdown",
   "metadata": {
    "colab_type": "text",
    "id": "JYlbTduGx_lI"
   },
   "source": [
    "# Задание 1. Слой для подготовки данных\n",
    "\n",
    "Создайте слой, который:\n",
    "* получает на вход батч `(None, 28, 28)` и возвращает батч\n",
    "`(None, 784)`. \n",
    "* Приводит значения интенсивности пикселей из диапазона `[0, 255]` к диапазону `[-1, 1]`.\n",
    "* *Дополнительно*: сделайте слой сериализуемым.\n",
    "\n",
    "\n",
    "Шаблон с кодом приведен ниже. Обучите модель с использованием этого слоя, убедитесь, что она обучается корректно."
   ]
  },
  {
   "cell_type": "code",
   "execution_count": 46,
   "metadata": {
    "colab": {},
    "colab_type": "code",
    "id": "AW0MfYjTttcC"
   },
   "outputs": [],
   "source": [
    "class DataPreparation(layers.Layer):\n",
    "  def __init__(self, *args, **kwargs):\n",
    "    # Самодостаточен, дописывать не надо.\n",
    "    # fix: Нужно всегда добавлять в init наследуемых объектов keras\n",
    "    # *args и **kwargs. В данном случае можно вообще не писать \n",
    "    # __init__, если не будете добавлять никаких параметров для \n",
    "    # своего слоя.\n",
    "    self.in_shape = kwargs.pop('input_shape')\n",
    "    super().__init__(*args, **kwargs)\n",
    "\n",
    "  def call(self, inputs):\n",
    "    # Совет: чтобы получить целевую размерность, используйте все измерения \n",
    "    # тензора, кроме размерности батча, которая не определена на этапе\n",
    "    # компиляции. Выполните изменение размерности как\n",
    "    # tf.reshape(inputs, [-1, flattened_dim])\n",
    "    # где -1 - размерность, которая вычислится динамически.\n",
    "    # Если нужно преобразовать тип данных от int к float, используйте tf.cast.\n",
    "\n",
    "    img_shape = inputs.shape[1:]\n",
    "    assert self.in_shape == img_shape, 'Размерность картинки в батче не совпадает с параметром input_shape'\n",
    "    \n",
    "    flattened_dim = np.prod(img_shape)\n",
    "    _dt = tf.reshape(inputs, [-1, flattened_dim]) \n",
    "    out = tf.cast(_dt, tf.float32)/127. - 1.\n",
    "    return out\n",
    "    \n",
    "\n",
    "  def get_config(self):\n",
    "    # Необязательное задание.\n",
    "    # Дополните этот метод. Проверьте, работает ли он, при помощи model.save()\n",
    "    base_config = super().get_config()\n",
    "    base_config.update({\"in_shape\": self.in_shape})\n",
    "    # никаких дополнительных параметров нет, поэтому добавлять нечего\n",
    "    return base_config"
   ]
  },
  {
   "cell_type": "code",
   "execution_count": 47,
   "metadata": {
    "colab": {},
    "colab_type": "code",
    "id": "qqDGYpcHsclF"
   },
   "outputs": [],
   "source": [
    "# Можно запустить tensorbaord, если вы подключили TensorBoard callback\n",
    "# %tensorboard --logdir logs --bind_allupdate"
   ]
  },
  {
   "cell_type": "markdown",
   "metadata": {
    "colab_type": "text",
    "id": "AejWnwyLxugZ"
   },
   "source": [
    "## Код для обучения модели\n",
    "\n",
    "**FIX** для корректной работы кода загрузки модели: добавлен `input_shape` первому слою. \n",
    "\n",
    "**Upd**: поведение может меняться в зависимости от версии 2.x. "
   ]
  },
  {
   "cell_type": "code",
   "execution_count": 48,
   "metadata": {
    "colab": {},
    "colab_type": "code",
    "id": "97cSBCnVtr-m"
   },
   "outputs": [],
   "source": [
    "INPUT_SHAPE = (28, 28)\n",
    "\n",
    "def get_model_with_preparation(n_classes):\n",
    "  activation = 'tanh'\n",
    "  units = 256\n",
    "  model = keras.Sequential([\n",
    "    DataPreparation(input_shape=INPUT_SHAPE),\n",
    "    layers.Dense(units, activation=activation),\n",
    "    layers.Dense(units, activation=activation),\n",
    "    layers.Dense(n_classes, activation='softmax')])\n",
    "  return model"
   ]
  },
  {
   "cell_type": "code",
   "execution_count": 49,
   "metadata": {
    "colab": {},
    "colab_type": "code",
    "id": "f7kA_dlKxyMJ"
   },
   "outputs": [],
   "source": [
    "model = get_model_with_preparation(10)\n",
    "model.compile(optimizer=keras.optimizers.SGD(learning_rate=0.01),\n",
    "              metrics=['accuracy'],\n",
    "              loss='sparse_categorical_crossentropy')"
   ]
  },
  {
   "cell_type": "markdown",
   "metadata": {
    "colab_type": "text",
    "id": "LLrmfXXM8ZQ4"
   },
   "source": [
    "Передавайте необработанные данные, т.е. `__x_train`, `__x_test`."
   ]
  },
  {
   "cell_type": "code",
   "execution_count": 50,
   "metadata": {
    "colab": {},
    "colab_type": "code",
    "id": "aYnCwZhyx-VH"
   },
   "outputs": [
    {
     "name": "stdout",
     "output_type": "stream",
     "text": [
      "Epoch 1/100\n",
      "469/469 [==============================] - 1s 2ms/step - loss: 0.7667 - accuracy: 0.7481 - val_loss: 0.5849 - val_accuracy: 0.7939\n",
      "Epoch 2/100\n",
      "469/469 [==============================] - 1s 2ms/step - loss: 0.5226 - accuracy: 0.8166 - val_loss: 0.5185 - val_accuracy: 0.8152\n",
      "Epoch 3/100\n",
      "469/469 [==============================] - 1s 2ms/step - loss: 0.4738 - accuracy: 0.8332 - val_loss: 0.4888 - val_accuracy: 0.8254\n",
      "Epoch 4/100\n",
      "469/469 [==============================] - 1s 2ms/step - loss: 0.4460 - accuracy: 0.8429 - val_loss: 0.4680 - val_accuracy: 0.8317\n",
      "Epoch 5/100\n",
      "469/469 [==============================] - 1s 2ms/step - loss: 0.4267 - accuracy: 0.8493 - val_loss: 0.4524 - val_accuracy: 0.8372\n",
      "Epoch 6/100\n",
      "469/469 [==============================] - 1s 2ms/step - loss: 0.4121 - accuracy: 0.8547 - val_loss: 0.4406 - val_accuracy: 0.8409\n",
      "Epoch 7/100\n",
      "469/469 [==============================] - 1s 2ms/step - loss: 0.4002 - accuracy: 0.8587 - val_loss: 0.4307 - val_accuracy: 0.8443\n",
      "Epoch 8/100\n",
      "469/469 [==============================] - 1s 2ms/step - loss: 0.3902 - accuracy: 0.8615 - val_loss: 0.4235 - val_accuracy: 0.8481\n",
      "Epoch 9/100\n",
      "469/469 [==============================] - 1s 2ms/step - loss: 0.3819 - accuracy: 0.8642 - val_loss: 0.4182 - val_accuracy: 0.8504\n",
      "Epoch 10/100\n",
      "469/469 [==============================] - 1s 2ms/step - loss: 0.3738 - accuracy: 0.8683 - val_loss: 0.4106 - val_accuracy: 0.8522\n",
      "Epoch 11/100\n",
      "469/469 [==============================] - 1s 2ms/step - loss: 0.3668 - accuracy: 0.8702 - val_loss: 0.4081 - val_accuracy: 0.8544\n",
      "Epoch 12/100\n",
      "469/469 [==============================] - 1s 2ms/step - loss: 0.3605 - accuracy: 0.8721 - val_loss: 0.4019 - val_accuracy: 0.8550\n",
      "Epoch 13/100\n",
      "469/469 [==============================] - 1s 2ms/step - loss: 0.3543 - accuracy: 0.8742 - val_loss: 0.3968 - val_accuracy: 0.8583\n",
      "Epoch 14/100\n",
      "469/469 [==============================] - 1s 2ms/step - loss: 0.3493 - accuracy: 0.8761 - val_loss: 0.3953 - val_accuracy: 0.8578\n",
      "Epoch 15/100\n",
      "469/469 [==============================] - 1s 2ms/step - loss: 0.3440 - accuracy: 0.8784 - val_loss: 0.3920 - val_accuracy: 0.8579\n",
      "Epoch 16/100\n",
      "469/469 [==============================] - 1s 2ms/step - loss: 0.3393 - accuracy: 0.8793 - val_loss: 0.3893 - val_accuracy: 0.8625\n",
      "Epoch 17/100\n",
      "469/469 [==============================] - 1s 2ms/step - loss: 0.3351 - accuracy: 0.8804 - val_loss: 0.3857 - val_accuracy: 0.8611\n",
      "Epoch 18/100\n",
      "469/469 [==============================] - 1s 2ms/step - loss: 0.3302 - accuracy: 0.8828 - val_loss: 0.3839 - val_accuracy: 0.8630\n",
      "Epoch 19/100\n",
      "469/469 [==============================] - 1s 2ms/step - loss: 0.3263 - accuracy: 0.8832 - val_loss: 0.3781 - val_accuracy: 0.8657\n",
      "Epoch 20/100\n",
      "469/469 [==============================] - 1s 2ms/step - loss: 0.3226 - accuracy: 0.8855 - val_loss: 0.3766 - val_accuracy: 0.8666\n",
      "Epoch 21/100\n",
      "469/469 [==============================] - 1s 2ms/step - loss: 0.3187 - accuracy: 0.8862 - val_loss: 0.3744 - val_accuracy: 0.8650\n",
      "Epoch 22/100\n",
      "469/469 [==============================] - 1s 2ms/step - loss: 0.3155 - accuracy: 0.8881 - val_loss: 0.3697 - val_accuracy: 0.8670\n",
      "Epoch 23/100\n",
      "469/469 [==============================] - 1s 2ms/step - loss: 0.3117 - accuracy: 0.8891 - val_loss: 0.3708 - val_accuracy: 0.8698\n",
      "Epoch 24/100\n",
      "469/469 [==============================] - 1s 2ms/step - loss: 0.3090 - accuracy: 0.8893 - val_loss: 0.3681 - val_accuracy: 0.8684\n",
      "Epoch 25/100\n",
      "469/469 [==============================] - 1s 2ms/step - loss: 0.3050 - accuracy: 0.8909 - val_loss: 0.3744 - val_accuracy: 0.8638\n",
      "Epoch 26/100\n",
      "469/469 [==============================] - 1s 2ms/step - loss: 0.3015 - accuracy: 0.8920 - val_loss: 0.3624 - val_accuracy: 0.8710\n",
      "Epoch 27/100\n",
      "469/469 [==============================] - 1s 2ms/step - loss: 0.2985 - accuracy: 0.8935 - val_loss: 0.3619 - val_accuracy: 0.8718\n",
      "Epoch 28/100\n",
      "469/469 [==============================] - 1s 2ms/step - loss: 0.2955 - accuracy: 0.8945 - val_loss: 0.3599 - val_accuracy: 0.8709\n",
      "Epoch 29/100\n",
      "469/469 [==============================] - 1s 2ms/step - loss: 0.2927 - accuracy: 0.8950 - val_loss: 0.3577 - val_accuracy: 0.8727\n",
      "Epoch 30/100\n",
      "469/469 [==============================] - 1s 2ms/step - loss: 0.2896 - accuracy: 0.8966 - val_loss: 0.3588 - val_accuracy: 0.8713\n",
      "Epoch 31/100\n",
      "469/469 [==============================] - 1s 2ms/step - loss: 0.2868 - accuracy: 0.8975 - val_loss: 0.3582 - val_accuracy: 0.8704\n",
      "Epoch 32/100\n",
      "469/469 [==============================] - 1s 2ms/step - loss: 0.2846 - accuracy: 0.8978 - val_loss: 0.3544 - val_accuracy: 0.8721\n",
      "Epoch 33/100\n",
      "469/469 [==============================] - 1s 2ms/step - loss: 0.2811 - accuracy: 0.8994 - val_loss: 0.3514 - val_accuracy: 0.8734\n",
      "Epoch 34/100\n",
      "469/469 [==============================] - 1s 2ms/step - loss: 0.2789 - accuracy: 0.9001 - val_loss: 0.3517 - val_accuracy: 0.8751\n",
      "Epoch 35/100\n",
      "469/469 [==============================] - 1s 2ms/step - loss: 0.2760 - accuracy: 0.9006 - val_loss: 0.3514 - val_accuracy: 0.8729\n",
      "Epoch 36/100\n",
      "469/469 [==============================] - 1s 2ms/step - loss: 0.2735 - accuracy: 0.9026 - val_loss: 0.3528 - val_accuracy: 0.8737\n"
     ]
    }
   ],
   "source": [
    "early_stopping = callbacks.EarlyStopping(min_delta=0.001, patience=3, \n",
    "                                         restore_best_weights=True)\n",
    "\n",
    "epochs = 100\n",
    "batch_size = 128\n",
    "histrory_prep = model.fit(__x_train, y_train, \n",
    "                      validation_data=(__x_test, y_test),\n",
    "                      epochs=epochs,\n",
    "                      batch_size=batch_size,\n",
    "                      callbacks=[early_stopping])"
   ]
  },
  {
   "cell_type": "code",
   "execution_count": 51,
   "metadata": {},
   "outputs": [
    {
     "name": "stdout",
     "output_type": "stream",
     "text": [
      "INFO:tensorflow:Assets written to: m_01/assets\n"
     ]
    }
   ],
   "source": [
    "model.save('m_01')"
   ]
  },
  {
   "cell_type": "code",
   "execution_count": null,
   "metadata": {},
   "outputs": [],
   "source": []
  },
  {
   "cell_type": "markdown",
   "metadata": {
    "colab_type": "text",
    "id": "KrxqkHmLyJAt"
   },
   "source": [
    "# Задание 2. Слой с гауссовым шумом\n",
    "\n",
    "Создайте слой, который будет добавлять к входным данным нормально распределенный (с $\\mu = 0$ и заданной $\\sigma$) шум *и затем*  обрабатывать измененные данные как полносзвязный слой.\n",
    "\n",
    "Для этого завершите шаблон класса. \n",
    "\n",
    "Посоле этого сравните, как обучается модель с различными значениями $\\sigma$, к примеру, $0, 0.01, 0.05, 0.1, ...$. Постройте графики в matplotlib или tensorboard. При $\\sigma = 0$ слой должен действовать так же, как обычный полносзвязный слой.\n",
    "\n",
    "Желательно провести несколько экспериментов для каждого значения $\\sigma$."
   ]
  },
  {
   "cell_type": "code",
   "execution_count": 162,
   "metadata": {
    "colab": {},
    "colab_type": "code",
    "id": "wAGGENVH2xvK"
   },
   "outputs": [],
   "source": [
    "class GaussianDense(layers.Dense):\n",
    "  def __init__(self, *args, **kwargs):\n",
    "    # Обратите внимание, что слой наследует Layer -> Dense -> GaussianDense.\n",
    "    self.std = kwargs.pop('std')\n",
    "    super().__init__(*args, **kwargs)\n",
    "    \n",
    "\n",
    "  def build(self, *args, **kwargs):\n",
    "    # Достаточно вызова build базового класса.\n",
    "    super().build(*args, **kwargs)\n",
    "\n",
    "  def call(self, inputs):\n",
    "    # Добавить случайный шум, генерируемый методом tf.random.normal.\n",
    "    # Чтобы определить размерность шума, используйте tf.shape(inputs) - \n",
    "    # это поможет избежать сложностей с динамическим размером массива.\n",
    "    # Вызвать call базового класса можно при помощи super().\n",
    "    \n",
    "    _d_gauss = tf.random.normal(tf.shape(inputs), stddev=self.std)\n",
    "    inputs += _d_gauss\n",
    "    \n",
    "    return super().call(inputs)\n",
    "    \n",
    "\n",
    "  def get_config(self):\n",
    "    base_config = super().get_config()\n",
    "    base_config.update({\"std_gauss\": self.std})\n",
    "    return base_config"
   ]
  },
  {
   "cell_type": "markdown",
   "metadata": {
    "colab_type": "text",
    "id": "g-DMaGRP8lBJ"
   },
   "source": [
    "## Создание и обучение модели"
   ]
  },
  {
   "cell_type": "code",
   "execution_count": 163,
   "metadata": {
    "colab": {},
    "colab_type": "code",
    "id": "9-1QJ5L14cWq"
   },
   "outputs": [],
   "source": [
    "INPUT_SHAPE = (28, 28)\n",
    "\n",
    "def get_model_with_noise(n_classes, std):\n",
    "  activation = 'tanh'\n",
    "  units = 256\n",
    "  model = keras.Sequential([\n",
    "    DataPreparation(input_shape=INPUT_SHAPE),\n",
    "    GaussianDense(units, activation=activation, std=std),\n",
    "    GaussianDense(units, activation=activation, std=std),\n",
    "    layers.Dense(n_classes, activation='softmax')])\n",
    "  return model"
   ]
  },
  {
   "cell_type": "code",
   "execution_count": 172,
   "metadata": {},
   "outputs": [],
   "source": [
    "def get_callbacks(log_name):\n",
    "    \n",
    "    early_stopping = callbacks.EarlyStopping(min_delta=0.001, patience=3, \n",
    "                                             restore_best_weights=True)\n",
    "\n",
    "    tensorboard = tf.keras.callbacks.TensorBoard(log_dir='logs/'+ log_name)\n",
    "                                              \n",
    "    \n",
    "    call_backs = [early_stopping, tensorboard]\n",
    "    return call_backs"
   ]
  },
  {
   "cell_type": "code",
   "execution_count": 173,
   "metadata": {
    "colab": {},
    "colab_type": "code",
    "id": "tfC9xtw14sfm"
   },
   "outputs": [],
   "source": [
    "# model = get_model_with_noise(10)\n",
    "# model.compile(optimizer=keras.optimizers.SGD(learning_rate=0.01),\n",
    "#               metrics=['accuracy'],\n",
    "#               loss='sparse_categorical_crossentropy')"
   ]
  },
  {
   "cell_type": "code",
   "execution_count": 174,
   "metadata": {
    "colab": {},
    "colab_type": "code",
    "id": "ZreK1x144uYH"
   },
   "outputs": [
    {
     "name": "stdout",
     "output_type": "stream",
     "text": [
      "Epoch 1/100\n",
      "  2/469 [..............................] - ETA: 4:03 - loss: 2.5823 - accuracy: 0.0312WARNING:tensorflow:Method (on_train_batch_end) is slow compared to the batch update (0.521074). Check your callbacks.\n",
      "469/469 [==============================] - 2s 5ms/step - loss: 0.7843 - accuracy: 0.7426 - val_loss: 0.5893 - val_accuracy: 0.7929\n",
      "Epoch 2/100\n",
      "469/469 [==============================] - 1s 3ms/step - loss: 0.5240 - accuracy: 0.8185 - val_loss: 0.5186 - val_accuracy: 0.8166\n",
      "Epoch 3/100\n",
      "469/469 [==============================] - 1s 3ms/step - loss: 0.4727 - accuracy: 0.8347 - val_loss: 0.4865 - val_accuracy: 0.8284\n",
      "Epoch 4/100\n",
      "469/469 [==============================] - 1s 2ms/step - loss: 0.4437 - accuracy: 0.8449 - val_loss: 0.4663 - val_accuracy: 0.8336\n",
      "Epoch 5/100\n",
      " 53/469 [==>...........................] - ETA: 0s - loss: 0.4212 - accuracy: 0.8541"
     ]
    },
    {
     "ename": "KeyboardInterrupt",
     "evalue": "",
     "output_type": "error",
     "traceback": [
      "\u001b[0;31m---------------------------------------------------------------------------\u001b[0m",
      "\u001b[0;31mKeyboardInterrupt\u001b[0m                         Traceback (most recent call last)",
      "\u001b[0;32m<ipython-input-174-bd913de42ed8>\u001b[0m in \u001b[0;36m<module>\u001b[0;34m\u001b[0m\n\u001b[1;32m     10\u001b[0m                   loss='sparse_categorical_crossentropy')\n\u001b[1;32m     11\u001b[0m \u001b[0;34m\u001b[0m\u001b[0m\n\u001b[0;32m---> 12\u001b[0;31m     histrory_gaus = model.fit(__x_train, y_train, \n\u001b[0m\u001b[1;32m     13\u001b[0m                           \u001b[0mvalidation_data\u001b[0m\u001b[0;34m=\u001b[0m\u001b[0;34m(\u001b[0m\u001b[0m__x_test\u001b[0m\u001b[0;34m,\u001b[0m \u001b[0my_test\u001b[0m\u001b[0;34m)\u001b[0m\u001b[0;34m,\u001b[0m\u001b[0;34m\u001b[0m\u001b[0;34m\u001b[0m\u001b[0m\n\u001b[1;32m     14\u001b[0m                           \u001b[0mepochs\u001b[0m\u001b[0;34m=\u001b[0m\u001b[0mepochs\u001b[0m\u001b[0;34m,\u001b[0m\u001b[0;34m\u001b[0m\u001b[0;34m\u001b[0m\u001b[0m\n",
      "\u001b[0;32m/mnt/develop/_DS_/_env_/lib/python3.8/site-packages/tensorflow/python/keras/engine/training.py\u001b[0m in \u001b[0;36m_method_wrapper\u001b[0;34m(self, *args, **kwargs)\u001b[0m\n\u001b[1;32m     64\u001b[0m   \u001b[0;32mdef\u001b[0m \u001b[0m_method_wrapper\u001b[0m\u001b[0;34m(\u001b[0m\u001b[0mself\u001b[0m\u001b[0;34m,\u001b[0m \u001b[0;34m*\u001b[0m\u001b[0margs\u001b[0m\u001b[0;34m,\u001b[0m \u001b[0;34m**\u001b[0m\u001b[0mkwargs\u001b[0m\u001b[0;34m)\u001b[0m\u001b[0;34m:\u001b[0m\u001b[0;34m\u001b[0m\u001b[0;34m\u001b[0m\u001b[0m\n\u001b[1;32m     65\u001b[0m     \u001b[0;32mif\u001b[0m \u001b[0;32mnot\u001b[0m \u001b[0mself\u001b[0m\u001b[0;34m.\u001b[0m\u001b[0m_in_multi_worker_mode\u001b[0m\u001b[0;34m(\u001b[0m\u001b[0;34m)\u001b[0m\u001b[0;34m:\u001b[0m  \u001b[0;31m# pylint: disable=protected-access\u001b[0m\u001b[0;34m\u001b[0m\u001b[0;34m\u001b[0m\u001b[0m\n\u001b[0;32m---> 66\u001b[0;31m       \u001b[0;32mreturn\u001b[0m \u001b[0mmethod\u001b[0m\u001b[0;34m(\u001b[0m\u001b[0mself\u001b[0m\u001b[0;34m,\u001b[0m \u001b[0;34m*\u001b[0m\u001b[0margs\u001b[0m\u001b[0;34m,\u001b[0m \u001b[0;34m**\u001b[0m\u001b[0mkwargs\u001b[0m\u001b[0;34m)\u001b[0m\u001b[0;34m\u001b[0m\u001b[0;34m\u001b[0m\u001b[0m\n\u001b[0m\u001b[1;32m     67\u001b[0m \u001b[0;34m\u001b[0m\u001b[0m\n\u001b[1;32m     68\u001b[0m     \u001b[0;31m# Running inside `run_distribute_coordinator` already.\u001b[0m\u001b[0;34m\u001b[0m\u001b[0;34m\u001b[0m\u001b[0;34m\u001b[0m\u001b[0m\n",
      "\u001b[0;32m/mnt/develop/_DS_/_env_/lib/python3.8/site-packages/tensorflow/python/keras/engine/training.py\u001b[0m in \u001b[0;36mfit\u001b[0;34m(self, x, y, batch_size, epochs, verbose, callbacks, validation_split, validation_data, shuffle, class_weight, sample_weight, initial_epoch, steps_per_epoch, validation_steps, validation_batch_size, validation_freq, max_queue_size, workers, use_multiprocessing)\u001b[0m\n\u001b[1;32m    846\u001b[0m                 batch_size=batch_size):\n\u001b[1;32m    847\u001b[0m               \u001b[0mcallbacks\u001b[0m\u001b[0;34m.\u001b[0m\u001b[0mon_train_batch_begin\u001b[0m\u001b[0;34m(\u001b[0m\u001b[0mstep\u001b[0m\u001b[0;34m)\u001b[0m\u001b[0;34m\u001b[0m\u001b[0;34m\u001b[0m\u001b[0m\n\u001b[0;32m--> 848\u001b[0;31m               \u001b[0mtmp_logs\u001b[0m \u001b[0;34m=\u001b[0m \u001b[0mtrain_function\u001b[0m\u001b[0;34m(\u001b[0m\u001b[0miterator\u001b[0m\u001b[0;34m)\u001b[0m\u001b[0;34m\u001b[0m\u001b[0;34m\u001b[0m\u001b[0m\n\u001b[0m\u001b[1;32m    849\u001b[0m               \u001b[0;31m# Catch OutOfRangeError for Datasets of unknown size.\u001b[0m\u001b[0;34m\u001b[0m\u001b[0;34m\u001b[0m\u001b[0;34m\u001b[0m\u001b[0m\n\u001b[1;32m    850\u001b[0m               \u001b[0;31m# This blocks until the batch has finished executing.\u001b[0m\u001b[0;34m\u001b[0m\u001b[0;34m\u001b[0m\u001b[0;34m\u001b[0m\u001b[0m\n",
      "\u001b[0;32m/mnt/develop/_DS_/_env_/lib/python3.8/site-packages/tensorflow/python/eager/def_function.py\u001b[0m in \u001b[0;36m__call__\u001b[0;34m(self, *args, **kwds)\u001b[0m\n\u001b[1;32m    578\u001b[0m         \u001b[0mxla_context\u001b[0m\u001b[0;34m.\u001b[0m\u001b[0mExit\u001b[0m\u001b[0;34m(\u001b[0m\u001b[0;34m)\u001b[0m\u001b[0;34m\u001b[0m\u001b[0;34m\u001b[0m\u001b[0m\n\u001b[1;32m    579\u001b[0m     \u001b[0;32melse\u001b[0m\u001b[0;34m:\u001b[0m\u001b[0;34m\u001b[0m\u001b[0;34m\u001b[0m\u001b[0m\n\u001b[0;32m--> 580\u001b[0;31m       \u001b[0mresult\u001b[0m \u001b[0;34m=\u001b[0m \u001b[0mself\u001b[0m\u001b[0;34m.\u001b[0m\u001b[0m_call\u001b[0m\u001b[0;34m(\u001b[0m\u001b[0;34m*\u001b[0m\u001b[0margs\u001b[0m\u001b[0;34m,\u001b[0m \u001b[0;34m**\u001b[0m\u001b[0mkwds\u001b[0m\u001b[0;34m)\u001b[0m\u001b[0;34m\u001b[0m\u001b[0;34m\u001b[0m\u001b[0m\n\u001b[0m\u001b[1;32m    581\u001b[0m \u001b[0;34m\u001b[0m\u001b[0m\n\u001b[1;32m    582\u001b[0m     \u001b[0;32mif\u001b[0m \u001b[0mtracing_count\u001b[0m \u001b[0;34m==\u001b[0m \u001b[0mself\u001b[0m\u001b[0;34m.\u001b[0m\u001b[0m_get_tracing_count\u001b[0m\u001b[0;34m(\u001b[0m\u001b[0;34m)\u001b[0m\u001b[0;34m:\u001b[0m\u001b[0;34m\u001b[0m\u001b[0;34m\u001b[0m\u001b[0m\n",
      "\u001b[0;32m/mnt/develop/_DS_/_env_/lib/python3.8/site-packages/tensorflow/python/eager/def_function.py\u001b[0m in \u001b[0;36m_call\u001b[0;34m(self, *args, **kwds)\u001b[0m\n\u001b[1;32m    609\u001b[0m       \u001b[0;31m# In this case we have created variables on the first call, so we run the\u001b[0m\u001b[0;34m\u001b[0m\u001b[0;34m\u001b[0m\u001b[0;34m\u001b[0m\u001b[0m\n\u001b[1;32m    610\u001b[0m       \u001b[0;31m# defunned version which is guaranteed to never create variables.\u001b[0m\u001b[0;34m\u001b[0m\u001b[0;34m\u001b[0m\u001b[0;34m\u001b[0m\u001b[0m\n\u001b[0;32m--> 611\u001b[0;31m       \u001b[0;32mreturn\u001b[0m \u001b[0mself\u001b[0m\u001b[0;34m.\u001b[0m\u001b[0m_stateless_fn\u001b[0m\u001b[0;34m(\u001b[0m\u001b[0;34m*\u001b[0m\u001b[0margs\u001b[0m\u001b[0;34m,\u001b[0m \u001b[0;34m**\u001b[0m\u001b[0mkwds\u001b[0m\u001b[0;34m)\u001b[0m  \u001b[0;31m# pylint: disable=not-callable\u001b[0m\u001b[0;34m\u001b[0m\u001b[0;34m\u001b[0m\u001b[0m\n\u001b[0m\u001b[1;32m    612\u001b[0m     \u001b[0;32melif\u001b[0m \u001b[0mself\u001b[0m\u001b[0;34m.\u001b[0m\u001b[0m_stateful_fn\u001b[0m \u001b[0;32mis\u001b[0m \u001b[0;32mnot\u001b[0m \u001b[0;32mNone\u001b[0m\u001b[0;34m:\u001b[0m\u001b[0;34m\u001b[0m\u001b[0;34m\u001b[0m\u001b[0m\n\u001b[1;32m    613\u001b[0m       \u001b[0;31m# Release the lock early so that multiple threads can perform the call\u001b[0m\u001b[0;34m\u001b[0m\u001b[0;34m\u001b[0m\u001b[0;34m\u001b[0m\u001b[0m\n",
      "\u001b[0;32m/mnt/develop/_DS_/_env_/lib/python3.8/site-packages/tensorflow/python/eager/function.py\u001b[0m in \u001b[0;36m__call__\u001b[0;34m(self, *args, **kwargs)\u001b[0m\n\u001b[1;32m   2418\u001b[0m     \u001b[0;32mwith\u001b[0m \u001b[0mself\u001b[0m\u001b[0;34m.\u001b[0m\u001b[0m_lock\u001b[0m\u001b[0;34m:\u001b[0m\u001b[0;34m\u001b[0m\u001b[0;34m\u001b[0m\u001b[0m\n\u001b[1;32m   2419\u001b[0m       \u001b[0mgraph_function\u001b[0m\u001b[0;34m,\u001b[0m \u001b[0margs\u001b[0m\u001b[0;34m,\u001b[0m \u001b[0mkwargs\u001b[0m \u001b[0;34m=\u001b[0m \u001b[0mself\u001b[0m\u001b[0;34m.\u001b[0m\u001b[0m_maybe_define_function\u001b[0m\u001b[0;34m(\u001b[0m\u001b[0margs\u001b[0m\u001b[0;34m,\u001b[0m \u001b[0mkwargs\u001b[0m\u001b[0;34m)\u001b[0m\u001b[0;34m\u001b[0m\u001b[0;34m\u001b[0m\u001b[0m\n\u001b[0;32m-> 2420\u001b[0;31m     \u001b[0;32mreturn\u001b[0m \u001b[0mgraph_function\u001b[0m\u001b[0;34m.\u001b[0m\u001b[0m_filtered_call\u001b[0m\u001b[0;34m(\u001b[0m\u001b[0margs\u001b[0m\u001b[0;34m,\u001b[0m \u001b[0mkwargs\u001b[0m\u001b[0;34m)\u001b[0m  \u001b[0;31m# pylint: disable=protected-access\u001b[0m\u001b[0;34m\u001b[0m\u001b[0;34m\u001b[0m\u001b[0m\n\u001b[0m\u001b[1;32m   2421\u001b[0m \u001b[0;34m\u001b[0m\u001b[0m\n\u001b[1;32m   2422\u001b[0m   \u001b[0;34m@\u001b[0m\u001b[0mproperty\u001b[0m\u001b[0;34m\u001b[0m\u001b[0;34m\u001b[0m\u001b[0m\n",
      "\u001b[0;32m/mnt/develop/_DS_/_env_/lib/python3.8/site-packages/tensorflow/python/eager/function.py\u001b[0m in \u001b[0;36m_filtered_call\u001b[0;34m(self, args, kwargs)\u001b[0m\n\u001b[1;32m   1659\u001b[0m       \u001b[0;31m`\u001b[0m\u001b[0margs\u001b[0m\u001b[0;31m`\u001b[0m \u001b[0;32mand\u001b[0m\u001b[0;31m \u001b[0m\u001b[0;31m`\u001b[0m\u001b[0mkwargs\u001b[0m\u001b[0;31m`\u001b[0m\u001b[0;34m.\u001b[0m\u001b[0;34m\u001b[0m\u001b[0;34m\u001b[0m\u001b[0m\n\u001b[1;32m   1660\u001b[0m     \"\"\"\n\u001b[0;32m-> 1661\u001b[0;31m     return self._call_flat(\n\u001b[0m\u001b[1;32m   1662\u001b[0m         (t for t in nest.flatten((args, kwargs), expand_composites=True)\n\u001b[1;32m   1663\u001b[0m          if isinstance(t, (ops.Tensor,\n",
      "\u001b[0;32m/mnt/develop/_DS_/_env_/lib/python3.8/site-packages/tensorflow/python/eager/function.py\u001b[0m in \u001b[0;36m_call_flat\u001b[0;34m(self, args, captured_inputs, cancellation_manager)\u001b[0m\n\u001b[1;32m   1743\u001b[0m         and executing_eagerly):\n\u001b[1;32m   1744\u001b[0m       \u001b[0;31m# No tape is watching; skip to running the function.\u001b[0m\u001b[0;34m\u001b[0m\u001b[0;34m\u001b[0m\u001b[0;34m\u001b[0m\u001b[0m\n\u001b[0;32m-> 1745\u001b[0;31m       return self._build_call_outputs(self._inference_function.call(\n\u001b[0m\u001b[1;32m   1746\u001b[0m           ctx, args, cancellation_manager=cancellation_manager))\n\u001b[1;32m   1747\u001b[0m     forward_backward = self._select_forward_and_backward_functions(\n",
      "\u001b[0;32m/mnt/develop/_DS_/_env_/lib/python3.8/site-packages/tensorflow/python/eager/function.py\u001b[0m in \u001b[0;36mcall\u001b[0;34m(self, ctx, args, cancellation_manager)\u001b[0m\n\u001b[1;32m    591\u001b[0m       \u001b[0;32mwith\u001b[0m \u001b[0m_InterpolateFunctionError\u001b[0m\u001b[0;34m(\u001b[0m\u001b[0mself\u001b[0m\u001b[0;34m)\u001b[0m\u001b[0;34m:\u001b[0m\u001b[0;34m\u001b[0m\u001b[0;34m\u001b[0m\u001b[0m\n\u001b[1;32m    592\u001b[0m         \u001b[0;32mif\u001b[0m \u001b[0mcancellation_manager\u001b[0m \u001b[0;32mis\u001b[0m \u001b[0;32mNone\u001b[0m\u001b[0;34m:\u001b[0m\u001b[0;34m\u001b[0m\u001b[0;34m\u001b[0m\u001b[0m\n\u001b[0;32m--> 593\u001b[0;31m           outputs = execute.execute(\n\u001b[0m\u001b[1;32m    594\u001b[0m               \u001b[0mstr\u001b[0m\u001b[0;34m(\u001b[0m\u001b[0mself\u001b[0m\u001b[0;34m.\u001b[0m\u001b[0msignature\u001b[0m\u001b[0;34m.\u001b[0m\u001b[0mname\u001b[0m\u001b[0;34m)\u001b[0m\u001b[0;34m,\u001b[0m\u001b[0;34m\u001b[0m\u001b[0;34m\u001b[0m\u001b[0m\n\u001b[1;32m    595\u001b[0m               \u001b[0mnum_outputs\u001b[0m\u001b[0;34m=\u001b[0m\u001b[0mself\u001b[0m\u001b[0;34m.\u001b[0m\u001b[0m_num_outputs\u001b[0m\u001b[0;34m,\u001b[0m\u001b[0;34m\u001b[0m\u001b[0;34m\u001b[0m\u001b[0m\n",
      "\u001b[0;32m/mnt/develop/_DS_/_env_/lib/python3.8/site-packages/tensorflow/python/eager/execute.py\u001b[0m in \u001b[0;36mquick_execute\u001b[0;34m(op_name, num_outputs, inputs, attrs, ctx, name)\u001b[0m\n\u001b[1;32m     57\u001b[0m   \u001b[0;32mtry\u001b[0m\u001b[0;34m:\u001b[0m\u001b[0;34m\u001b[0m\u001b[0;34m\u001b[0m\u001b[0m\n\u001b[1;32m     58\u001b[0m     \u001b[0mctx\u001b[0m\u001b[0;34m.\u001b[0m\u001b[0mensure_initialized\u001b[0m\u001b[0;34m(\u001b[0m\u001b[0;34m)\u001b[0m\u001b[0;34m\u001b[0m\u001b[0;34m\u001b[0m\u001b[0m\n\u001b[0;32m---> 59\u001b[0;31m     tensors = pywrap_tfe.TFE_Py_Execute(ctx._handle, device_name, op_name,\n\u001b[0m\u001b[1;32m     60\u001b[0m                                         inputs, attrs, num_outputs)\n\u001b[1;32m     61\u001b[0m   \u001b[0;32mexcept\u001b[0m \u001b[0mcore\u001b[0m\u001b[0;34m.\u001b[0m\u001b[0m_NotOkStatusException\u001b[0m \u001b[0;32mas\u001b[0m \u001b[0me\u001b[0m\u001b[0;34m:\u001b[0m\u001b[0;34m\u001b[0m\u001b[0;34m\u001b[0m\u001b[0m\n",
      "\u001b[0;31mKeyboardInterrupt\u001b[0m: "
     ]
    }
   ],
   "source": [
    "histrory_gaus_list = list()\n",
    "std_list = [0, 0.01, 0.05, 0.1, 0.25]\n",
    "epochs = 100\n",
    "batch_size = 128\n",
    "\n",
    "for std in std_list:\n",
    "    model = get_model_with_noise(10, std=std)\n",
    "    model.compile(optimizer=keras.optimizers.SGD(learning_rate=0.01),\n",
    "                  metrics=['accuracy'],\n",
    "                  loss='sparse_categorical_crossentropy')\n",
    "    \n",
    "    histrory_gaus = model.fit(__x_train, y_train, \n",
    "                          validation_data=(__x_test, y_test),\n",
    "                          epochs=epochs,\n",
    "                          batch_size=batch_size,\n",
    "                          callbacks=get_callbacks(f'std_{std}')\n",
    "                             )\n",
    "    \n",
    "    histrory_gaus_list.append(histrory_gaus)"
   ]
  },
  {
   "cell_type": "code",
   "execution_count": 158,
   "metadata": {
    "colab": {},
    "colab_type": "code",
    "id": "OKgG5zPM5TTX"
   },
   "outputs": [
    {
     "name": "stdout",
     "output_type": "stream",
     "text": [
      "INFO:tensorflow:Assets written to: gauss_01/assets\n"
     ]
    }
   ],
   "source": [
    "# model.save('gauss_01')"
   ]
  },
  {
   "cell_type": "code",
   "execution_count": 168,
   "metadata": {},
   "outputs": [
    {
     "name": "stdout",
     "output_type": "stream",
     "text": [
      "The tensorboard extension is already loaded. To reload it, use:\n",
      "  %reload_ext tensorboard\n"
     ]
    },
    {
     "data": {
      "text/html": [
       "\n",
       "      <iframe id=\"tensorboard-frame-8b38f316fd123f1c\" width=\"100%\" height=\"800\" frameborder=\"0\">\n",
       "      </iframe>\n",
       "      <script>\n",
       "        (function() {\n",
       "          const frame = document.getElementById(\"tensorboard-frame-8b38f316fd123f1c\");\n",
       "          const url = new URL(\"/\", window.location);\n",
       "          url.port = 6007;\n",
       "          frame.src = url;\n",
       "        })();\n",
       "      </script>\n",
       "  "
      ],
      "text/plain": [
       "<IPython.core.display.HTML object>"
      ]
     },
     "metadata": {},
     "output_type": "display_data"
    }
   ],
   "source": [
    "%load_ext tensorboard\n",
    "%tensorboard --logdir logs --bind_all"
   ]
  },
  {
   "cell_type": "code",
   "execution_count": null,
   "metadata": {},
   "outputs": [],
   "source": []
  }
 ],
 "metadata": {
  "accelerator": "GPU",
  "colab": {
   "collapsed_sections": [],
   "name": "students-tensorflow-dle-homework-2020",
   "provenance": []
  },
  "kernelspec": {
   "display_name": "Python 3",
   "language": "python",
   "name": "python3"
  },
  "language_info": {
   "codemirror_mode": {
    "name": "ipython",
    "version": 3
   },
   "file_extension": ".py",
   "mimetype": "text/x-python",
   "name": "python",
   "nbconvert_exporter": "python",
   "pygments_lexer": "ipython3",
   "version": "3.8.2"
  }
 },
 "nbformat": 4,
 "nbformat_minor": 4
}
