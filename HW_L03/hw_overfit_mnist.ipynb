{
 "cells": [
  {
   "cell_type": "code",
   "execution_count": 1,
   "metadata": {
    "colab": {},
    "colab_type": "code",
    "id": "DWr6cvb9pS3J"
   },
   "outputs": [],
   "source": [
    "import torch\n",
    "import random\n",
    "import numpy as np\n",
    "import torch.nn as nn\n",
    "\n",
    "random.seed(0)\n",
    "np.random.seed(0)\n",
    "torch.manual_seed(0)\n",
    "torch.cuda.manual_seed(0)\n",
    "torch.backends.cudnn.deterministic = True\n",
    "# %pylab widgetsnbextension"
   ]
  },
  {
   "cell_type": "code",
   "execution_count": 2,
   "metadata": {},
   "outputs": [],
   "source": [
    "# !pip install ipywidgets\n",
    "# !jupyter lab nbextension enable --py widgetsnbextension"
   ]
  },
  {
   "cell_type": "code",
   "execution_count": 3,
   "metadata": {
    "colab": {},
    "colab_type": "code",
    "id": "MqGQWTDIpS3R"
   },
   "outputs": [],
   "source": [
    "import torchvision.datasets\n",
    "MNIST_train = torchvision.datasets.MNIST('../data/MNIST_data', download=True, train=True)\n",
    "MNIST_test = torchvision.datasets.MNIST('../data/MNIST_data', download=True, train=False)"
   ]
  },
  {
   "cell_type": "code",
   "execution_count": 4,
   "metadata": {
    "colab": {},
    "colab_type": "code",
    "id": "vv_Lz7PYpS3U"
   },
   "outputs": [],
   "source": [
    "X_train = MNIST_train.data\n",
    "y_train = MNIST_train.targets\n",
    "X_test = MNIST_test.data\n",
    "y_test = MNIST_test.targets"
   ]
  },
  {
   "cell_type": "code",
   "execution_count": 5,
   "metadata": {
    "colab": {
     "base_uri": "https://localhost:8080/",
     "height": 34
    },
    "colab_type": "code",
    "executionInfo": {
     "elapsed": 788,
     "status": "ok",
     "timestamp": 1589354352668,
     "user": {
      "displayName": "Roman Zakharov",
      "photoUrl": "",
      "userId": "18255168926005506833"
     },
     "user_tz": -240
    },
    "id": "hMhsAedlrQF5",
    "outputId": "ed1f9fad-b390-41eb-fef7-221c95e6743f"
   },
   "outputs": [
    {
     "data": {
      "text/plain": [
       "(torch.uint8, torch.int64)"
      ]
     },
     "execution_count": 5,
     "metadata": {},
     "output_type": "execute_result"
    }
   ],
   "source": [
    "X_train.dtype, y_train.dtype"
   ]
  },
  {
   "cell_type": "code",
   "execution_count": 6,
   "metadata": {
    "colab": {},
    "colab_type": "code",
    "id": "_yTaVOrPvap6"
   },
   "outputs": [],
   "source": [
    "X_train = X_train.float()\n",
    "X_test = X_test.float()"
   ]
  },
  {
   "cell_type": "code",
   "execution_count": 7,
   "metadata": {
    "colab": {
     "base_uri": "https://localhost:8080/",
     "height": 34
    },
    "colab_type": "code",
    "executionInfo": {
     "elapsed": 811,
     "status": "ok",
     "timestamp": 1589354358466,
     "user": {
      "displayName": "Roman Zakharov",
      "photoUrl": "",
      "userId": "18255168926005506833"
     },
     "user_tz": -240
    },
    "id": "_gfupg4kpS3X",
    "outputId": "d9a076a7-ffe8-4027-a64f-7730d95840ef"
   },
   "outputs": [
    {
     "data": {
      "text/plain": [
       "(torch.Size([60000, 28, 28]), torch.Size([10000, 28, 28]))"
      ]
     },
     "execution_count": 7,
     "metadata": {},
     "output_type": "execute_result"
    }
   ],
   "source": [
    "X_train.shape, X_test.shape"
   ]
  },
  {
   "cell_type": "code",
   "execution_count": 8,
   "metadata": {
    "colab": {
     "base_uri": "https://localhost:8080/",
     "height": 34
    },
    "colab_type": "code",
    "executionInfo": {
     "elapsed": 807,
     "status": "ok",
     "timestamp": 1589354364916,
     "user": {
      "displayName": "Roman Zakharov",
      "photoUrl": "",
      "userId": "18255168926005506833"
     },
     "user_tz": -240
    },
    "id": "zEC1RXBEz_SW",
    "outputId": "02032d08-ccde-4001-fd40-defc2c585c0a"
   },
   "outputs": [
    {
     "data": {
      "text/plain": [
       "(torch.Size([60000]), torch.Size([10000]))"
      ]
     },
     "execution_count": 8,
     "metadata": {},
     "output_type": "execute_result"
    }
   ],
   "source": [
    "y_train.shape, y_test.shape"
   ]
  },
  {
   "cell_type": "code",
   "execution_count": 9,
   "metadata": {
    "colab": {
     "base_uri": "https://localhost:8080/",
     "height": 282
    },
    "colab_type": "code",
    "executionInfo": {
     "elapsed": 968,
     "status": "ok",
     "timestamp": 1589354395263,
     "user": {
      "displayName": "Roman Zakharov",
      "photoUrl": "",
      "userId": "18255168926005506833"
     },
     "user_tz": -240
    },
    "id": "Z1tFXMwJpS3e",
    "outputId": "9aa55452-edc0-418f-f41f-206b036e1bd6"
   },
   "outputs": [
    {
     "data": {
      "image/png": "[encoded data removed]",
      "text/plain": [
       "<Figure size 432x288 with 1 Axes>"
      ]
     },
     "metadata": {
      "needs_background": "light"
     },
     "output_type": "display_data"
    },
    {
     "name": "stdout",
     "output_type": "stream",
     "text": [
      "tensor(3)\n"
     ]
    }
   ],
   "source": [
    "import matplotlib.pyplot as plt\n",
    "plt.imshow(X_train[10, :, :])\n",
    "plt.show()\n",
    "print(y_train[10])"
   ]
  },
  {
   "cell_type": "code",
   "execution_count": 10,
   "metadata": {
    "colab": {},
    "colab_type": "code",
    "id": "IUZgNg7zpS3j"
   },
   "outputs": [],
   "source": [
    "X_train = X_train.reshape([-1, 28 * 28])\n",
    "X_test = X_test.reshape([-1, 28 * 28])"
   ]
  },
  {
   "cell_type": "code",
   "execution_count": 11,
   "metadata": {
    "colab": {},
    "colab_type": "code",
    "id": "k7l65slppS3l"
   },
   "outputs": [],
   "source": [
    "# добавил дополнительный денс слой обратной пирамидой (div 2)\n",
    "# скорее для увеличения точности\n",
    "\n",
    "class MNISTNet(torch.nn.Module):\n",
    "    def __init__(self, n_hidden_neurons):\n",
    "        super(MNISTNet, self).__init__()\n",
    "        \n",
    "        half_hidden = int(n_hidden_neurons/2)\n",
    "\n",
    "        self.fc1 = torch.nn.Linear(28 * 28, n_hidden_neurons)\n",
    "        self.ac1 = torch.nn.ReLU()\n",
    "        self.fc2 = torch.nn.Linear(n_hidden_neurons, half_hidden) \n",
    "        self.ac2 = torch.nn.ReLU()\n",
    "        self.fc3 = torch.nn.Linear(half_hidden, 10) \n",
    "\n",
    "    \n",
    "    def forward(self, x):\n",
    "        x = self.fc1(x)\n",
    "        x = self.ac1(x)\n",
    "        x = self.fc2(x)\n",
    "        x = self.ac2(x)\n",
    "        x = self.fc3(x)\n",
    "        return x\n"
   ]
  },
  {
   "cell_type": "code",
   "execution_count": 12,
   "metadata": {},
   "outputs": [],
   "source": [
    "# изменил колв-во нейронов в первом слое\n",
    "mnist_net = MNISTNet(512)"
   ]
  },
  {
   "cell_type": "code",
   "execution_count": 13,
   "metadata": {
    "colab": {},
    "colab_type": "code",
    "id": "FJp7t3dR0pC5"
   },
   "outputs": [
    {
     "data": {
      "text/plain": [
       "True"
      ]
     },
     "execution_count": 13,
     "metadata": {},
     "output_type": "execute_result"
    }
   ],
   "source": [
    "torch.cuda.is_available()"
   ]
  },
  {
   "cell_type": "code",
   "execution_count": 14,
   "metadata": {
    "colab": {
     "base_uri": "https://localhost:8080/",
     "height": 335
    },
    "colab_type": "code",
    "executionInfo": {
     "elapsed": 4428,
     "status": "ok",
     "timestamp": 1589362738849,
     "user": {
      "displayName": "Roman Zakharov",
      "photoUrl": "",
      "userId": "18255168926005506833"
     },
     "user_tz": -240
    },
    "id": "ShQDv_w-0rz8",
    "outputId": "936c9d7d-e858-4d06-8af5-b28710c7de7b"
   },
   "outputs": [
    {
     "name": "stdout",
     "output_type": "stream",
     "text": [
      "Tue May 19 01:23:30 2020       \n",
      "+-----------------------------------------------------------------------------+\n",
      "| NVIDIA-SMI 440.64       Driver Version: 440.64       CUDA Version: 10.2     |\n",
      "|-------------------------------+----------------------+----------------------+\n",
      "| GPU  Name        Persistence-M| Bus-Id        Disp.A | Volatile Uncorr. ECC |\n",
      "| Fan  Temp  Perf  Pwr:Usage/Cap|         Memory-Usage | GPU-Util  Compute M. |\n",
      "|===============================+======================+======================|\n",
      "|   0  GeForce GTX 108...  Off  | 00000000:01:00.0 Off |                  N/A |\n",
      "|  0%   21C    P8     9W / 265W |     10MiB / 11178MiB |      0%      Default |\n",
      "+-------------------------------+----------------------+----------------------+\n",
      "|   1  GeForce GTX 108...  Off  | 00000000:05:00.0 Off |                  N/A |\n",
      "|  0%   26C    P8    19W / 270W |     10MiB / 11178MiB |      0%      Default |\n",
      "+-------------------------------+----------------------+----------------------+\n",
      "|   2  GeForce GTX 108...  Off  | 00000000:07:00.0 Off |                  N/A |\n",
      "|  0%   29C    P8    18W / 270W |     10MiB / 11178MiB |      0%      Default |\n",
      "+-------------------------------+----------------------+----------------------+\n",
      "|   3  GeForce GTX 1070    Off  | 00000000:08:00.0 Off |                  N/A |\n",
      "|  0%   26C    P8     8W / 210W |     10MiB /  8119MiB |      0%      Default |\n",
      "+-------------------------------+----------------------+----------------------+\n",
      "                                                                               \n",
      "+-----------------------------------------------------------------------------+\n",
      "| Processes:                                                       GPU Memory |\n",
      "|  GPU       PID   Type   Process name                             Usage      |\n",
      "|=============================================================================|\n",
      "|  No running processes found                                                 |\n",
      "+-----------------------------------------------------------------------------+\n"
     ]
    }
   ],
   "source": [
    "!nvidia-smi"
   ]
  },
  {
   "cell_type": "code",
   "execution_count": 15,
   "metadata": {
    "colab": {},
    "colab_type": "code",
    "id": "iUHy-780po9d"
   },
   "outputs": [
    {
     "data": {
      "text/plain": [
       "[Parameter containing:\n",
       " tensor([[-0.0003,  0.0192, -0.0294,  ...,  0.0219,  0.0037,  0.0021],\n",
       "         [-0.0198, -0.0150, -0.0104,  ..., -0.0203, -0.0060, -0.0299],\n",
       "         [-0.0201,  0.0149, -0.0333,  ..., -0.0203,  0.0012,  0.0080],\n",
       "         ...,\n",
       "         [-0.0209,  0.0038, -0.0286,  ..., -0.0166,  0.0245, -0.0179],\n",
       "         [ 0.0345, -0.0215, -0.0100,  ...,  0.0320,  0.0304,  0.0316],\n",
       "         [-0.0284,  0.0013, -0.0103,  ...,  0.0102, -0.0232,  0.0190]],\n",
       "        device='cuda:0', requires_grad=True),\n",
       " Parameter containing:\n",
       " tensor([ 3.2043e-02,  1.4205e-02,  2.8633e-02, -1.4148e-02, -1.6593e-02,\n",
       "         -9.9405e-03,  8.1577e-03, -3.2888e-02,  2.7320e-02,  3.5003e-02,\n",
       "         -2.9972e-02, -3.1398e-02,  3.0973e-02, -7.4480e-03, -1.0189e-02,\n",
       "          2.1097e-02, -1.8845e-02,  3.3359e-02,  8.1778e-03,  3.1719e-02,\n",
       "         -3.4391e-02, -1.0967e-02,  1.4626e-02, -6.5218e-03, -1.9927e-02,\n",
       "          2.0176e-02, -2.8642e-02, -2.7064e-02,  1.3672e-03,  1.9013e-02,\n",
       "          1.5633e-03, -2.8723e-02, -1.5950e-03,  3.4485e-02,  7.5487e-03,\n",
       "         -1.3710e-02, -2.9953e-02, -2.8892e-02, -3.0253e-04,  3.0669e-02,\n",
       "          2.8270e-03,  2.6683e-02,  8.1043e-03,  8.2741e-03,  9.0395e-03,\n",
       "         -1.0381e-02,  3.0001e-02,  2.4522e-03,  2.8734e-02,  1.3222e-02,\n",
       "          2.1312e-02, -3.1482e-02,  3.3931e-02, -6.5677e-03,  2.1426e-03,\n",
       "          1.1398e-02,  1.4632e-02, -1.9237e-02, -1.0109e-02,  1.4991e-02,\n",
       "         -3.2887e-02,  1.9593e-02, -1.8869e-03,  1.4191e-02,  1.2314e-02,\n",
       "         -2.6922e-02,  2.2725e-02,  3.2765e-02,  1.9159e-02, -8.3293e-04,\n",
       "          6.6084e-03,  2.5686e-02, -6.2291e-03,  3.2861e-02,  3.2605e-02,\n",
       "         -1.4826e-02,  2.0292e-02,  1.1311e-02,  2.6831e-03,  8.9004e-03,\n",
       "          2.8416e-03, -8.5042e-03,  2.5363e-02,  2.0776e-02, -6.2007e-03,\n",
       "          2.2514e-02, -3.2769e-02, -2.2821e-02,  1.5250e-02,  1.7429e-02,\n",
       "         -2.7105e-03, -1.5834e-04, -2.5660e-02, -2.6094e-02, -2.7680e-02,\n",
       "         -6.1150e-03,  1.4499e-02, -1.1418e-02, -2.7059e-02, -1.7027e-02,\n",
       "         -1.0697e-02,  4.6282e-03, -2.9677e-02,  1.9560e-02, -2.2657e-02,\n",
       "         -3.5125e-03,  1.0161e-02, -1.3197e-02, -7.1839e-03, -1.7488e-02,\n",
       "          2.3550e-02,  3.1215e-02,  1.1361e-02, -3.1534e-02,  3.0647e-02,\n",
       "         -2.4552e-02, -2.3342e-02, -3.0188e-03, -9.9429e-03,  2.8875e-02,\n",
       "          1.4866e-03, -2.5279e-02, -2.3764e-03,  1.5421e-02,  1.7542e-02,\n",
       "          3.1350e-02, -2.8062e-02, -2.0506e-03, -2.4015e-02, -2.4868e-02,\n",
       "          9.2270e-03,  4.6920e-03, -3.4017e-02,  3.1221e-02, -2.7569e-02,\n",
       "          6.8872e-03, -2.2596e-03,  2.4415e-02, -2.8651e-02, -2.4736e-02,\n",
       "          3.4587e-02,  2.6426e-02, -6.4662e-03, -2.5964e-02, -1.2789e-02,\n",
       "         -2.5855e-02, -1.0056e-02, -2.3723e-02, -3.8256e-03,  7.0058e-03,\n",
       "         -2.1266e-02, -2.1201e-02, -6.9753e-03,  1.9615e-02, -2.8753e-03,\n",
       "         -2.5420e-02,  1.6414e-02, -1.1262e-05, -3.8611e-03,  1.7546e-02,\n",
       "         -3.4935e-02, -2.2909e-02,  8.4564e-03,  1.3905e-02,  2.8676e-03,\n",
       "         -3.5091e-02,  5.9934e-04, -8.2682e-03, -1.6922e-02,  2.9881e-02,\n",
       "         -2.1798e-02, -2.7514e-02,  2.4981e-02,  5.4100e-03, -2.8963e-02,\n",
       "         -1.9013e-02,  1.1147e-03, -1.8296e-02, -1.9486e-02, -1.8129e-02,\n",
       "         -4.0172e-03, -2.1487e-02,  3.1959e-02, -1.1721e-02, -5.7912e-03,\n",
       "          1.8012e-02,  5.4540e-03, -3.4906e-02, -2.7921e-02, -1.4843e-02,\n",
       "         -3.5598e-02,  7.9850e-03, -2.4399e-02, -1.1976e-02, -2.2651e-02,\n",
       "          1.0216e-02,  2.5558e-02, -2.2151e-02, -2.9834e-02,  3.0818e-02,\n",
       "         -2.9629e-02, -1.5491e-02,  1.7819e-02,  2.2501e-02,  5.9849e-03,\n",
       "         -1.3384e-02, -3.4805e-02, -3.0697e-02, -3.0956e-02, -2.8365e-02,\n",
       "          3.4831e-02, -2.7272e-02, -2.2363e-02,  1.3826e-02,  3.0487e-02,\n",
       "         -2.6512e-02,  1.4425e-02, -3.4175e-02, -1.0750e-02,  1.1460e-02,\n",
       "          1.4103e-02,  4.2987e-03,  3.4419e-02,  8.7135e-03, -1.7902e-02,\n",
       "          3.1588e-02, -1.2507e-02,  1.4116e-02,  7.8733e-03, -1.0777e-02,\n",
       "         -1.3875e-02, -1.3479e-02,  2.5568e-02, -1.8443e-02, -3.2147e-02,\n",
       "         -3.0806e-02, -1.9550e-02,  2.5037e-02,  3.2561e-02,  1.4436e-02,\n",
       "          3.0742e-02,  3.2821e-02, -1.5605e-02,  3.1001e-02, -4.4453e-03,\n",
       "          2.9388e-02, -2.2607e-02, -1.3941e-02,  1.5307e-02,  3.7576e-03,\n",
       "         -3.5020e-02, -1.3695e-02,  1.1994e-02, -2.0159e-02, -2.0086e-02,\n",
       "          1.8610e-02,  4.0099e-03,  3.1638e-02, -3.4476e-03,  2.0718e-02,\n",
       "          9.8545e-03,  9.3933e-03,  3.3645e-02,  1.2754e-02,  7.9625e-03,\n",
       "         -6.5827e-03,  2.0924e-02, -3.0892e-02,  1.5934e-03, -2.4169e-02,\n",
       "          3.5369e-02, -1.2850e-02, -1.5690e-02, -2.3129e-02,  1.3293e-02,\n",
       "         -1.3169e-02,  5.9154e-03,  1.9604e-02,  3.6251e-03, -3.5365e-02,\n",
       "          2.1650e-02, -9.6803e-03, -1.7652e-02,  3.2240e-02,  3.4476e-02,\n",
       "         -9.7852e-03,  2.7157e-02, -2.4901e-02, -8.1924e-03, -2.3399e-02,\n",
       "          1.4222e-02,  4.9330e-03, -1.0102e-02,  7.3871e-03, -2.6557e-02,\n",
       "          5.3496e-03,  3.1836e-02, -3.1055e-02,  2.5558e-02, -2.2583e-02,\n",
       "         -6.9235e-03,  1.7957e-02,  2.6000e-02, -3.5210e-02,  3.3971e-02,\n",
       "         -2.2245e-02, -2.9957e-03, -1.2244e-02, -1.9010e-02,  7.5299e-03,\n",
       "          3.4977e-02, -1.8072e-02, -2.1311e-02,  9.0993e-03, -8.9400e-03,\n",
       "          4.2266e-03, -8.4801e-03, -6.3041e-03,  1.9100e-02,  3.3936e-03,\n",
       "          2.7247e-02,  3.0590e-02, -2.9613e-02, -9.9455e-03,  2.4419e-02,\n",
       "         -9.8239e-03,  1.7799e-03,  2.2470e-02,  3.1890e-02, -3.0904e-02,\n",
       "         -1.8888e-02, -1.0842e-02, -4.1612e-03,  1.6528e-02, -1.5838e-02,\n",
       "         -1.2533e-02,  2.2019e-02, -2.8826e-02, -1.9535e-02, -1.1890e-02,\n",
       "         -4.7786e-03,  2.9367e-02, -2.6182e-02,  3.3222e-02, -4.0623e-03,\n",
       "          2.0174e-02, -3.4886e-02,  3.2910e-02,  6.3979e-03, -3.3163e-02,\n",
       "         -8.7139e-03,  3.3834e-02, -5.2828e-03,  1.8957e-02,  1.7284e-02,\n",
       "         -1.1784e-02, -1.2332e-02,  9.2487e-03, -1.4880e-02, -2.8902e-02,\n",
       "         -5.5539e-03, -7.6228e-03,  2.1011e-02, -3.4646e-02,  1.7529e-02,\n",
       "          4.1539e-04, -3.1566e-02,  2.4141e-02,  3.3227e-02, -2.2134e-02,\n",
       "          3.1376e-02, -9.8522e-03, -5.3395e-03, -3.3406e-02,  1.8018e-02,\n",
       "          3.5674e-03,  1.7149e-02,  2.6190e-02, -8.8160e-03,  1.8724e-02,\n",
       "          2.9791e-02, -9.5442e-03,  3.0183e-02,  2.6911e-02,  2.8186e-02,\n",
       "          1.9526e-02,  1.9820e-02,  2.4839e-02,  1.7732e-02, -5.6007e-03,\n",
       "          3.7653e-03, -1.5079e-02,  9.3774e-03, -3.3506e-04, -3.4290e-02,\n",
       "          4.7091e-03, -1.3624e-02, -3.1192e-02,  2.4673e-02, -3.5916e-03,\n",
       "         -2.9689e-02,  1.8712e-02, -1.6976e-02,  6.5830e-03,  1.9451e-02,\n",
       "         -4.2714e-03, -6.8343e-03, -2.6850e-02,  2.7822e-02,  1.6801e-02,\n",
       "          8.8519e-03,  3.3374e-02, -8.5340e-03, -3.0569e-02, -2.7844e-02,\n",
       "          7.2489e-03,  4.4614e-03,  1.1412e-02, -3.2356e-03, -6.3445e-03,\n",
       "          3.2972e-02, -3.5078e-02, -9.9459e-03,  1.3455e-02, -2.8216e-02,\n",
       "         -3.3588e-02,  3.1367e-02,  1.2770e-02,  1.6789e-02,  3.2150e-02,\n",
       "          1.1792e-02, -2.1380e-02, -1.9557e-02,  2.4366e-02,  2.5752e-02,\n",
       "         -1.4631e-02,  2.1008e-02, -1.1745e-02, -1.7867e-03, -2.7315e-02,\n",
       "          9.3593e-03,  6.3233e-03,  1.6087e-02,  1.8958e-02,  2.9375e-02,\n",
       "         -1.0913e-02,  2.1455e-02,  7.8489e-03, -8.6919e-03,  8.5587e-04,\n",
       "         -9.7132e-03, -1.2760e-02,  1.0411e-02, -1.4417e-02, -4.2600e-04,\n",
       "          1.2587e-02, -3.7839e-03,  2.2645e-02, -1.0688e-02,  4.2180e-03,\n",
       "          1.4135e-02,  2.6270e-02, -1.3020e-02, -5.7477e-03, -2.3246e-02,\n",
       "         -2.1867e-02,  5.7146e-03, -3.1696e-03, -7.2690e-04,  2.4276e-02,\n",
       "         -2.5313e-02,  2.4050e-03, -2.7561e-02, -1.6100e-02, -6.4317e-03,\n",
       "          2.2631e-02,  8.6243e-03,  8.9850e-03,  2.1910e-02,  2.7084e-03,\n",
       "         -1.1961e-02,  2.8370e-02, -3.5019e-02, -3.3777e-02, -2.1011e-02,\n",
       "          2.5239e-02,  2.0481e-02, -2.6014e-02, -4.3524e-03, -9.9425e-03,\n",
       "         -2.3532e-02,  3.0687e-02, -2.7827e-02, -5.7970e-03,  5.3997e-03,\n",
       "         -3.3188e-02,  2.3505e-02,  2.0919e-02, -3.0067e-02, -1.2502e-02,\n",
       "          1.2429e-02,  3.4417e-02,  2.8645e-02,  1.9341e-02, -3.4814e-02,\n",
       "         -2.0066e-02, -2.5123e-02,  4.4266e-03, -2.7556e-02,  2.8944e-02,\n",
       "          1.4605e-03,  2.2582e-02], device='cuda:0', requires_grad=True),\n",
       " Parameter containing:\n",
       " tensor([[ 0.0217,  0.0426, -0.0431,  ...,  0.0227,  0.0204,  0.0404],\n",
       "         [-0.0165, -0.0338, -0.0328,  ..., -0.0084, -0.0116, -0.0251],\n",
       "         [-0.0365,  0.0310,  0.0170,  ...,  0.0368, -0.0371,  0.0111],\n",
       "         ...,\n",
       "         [ 0.0212,  0.0113, -0.0066,  ..., -0.0203, -0.0325, -0.0012],\n",
       "         [-0.0047, -0.0227,  0.0282,  ...,  0.0412,  0.0204, -0.0258],\n",
       "         [-0.0397, -0.0260, -0.0010,  ..., -0.0405, -0.0108, -0.0090]],\n",
       "        device='cuda:0', requires_grad=True),\n",
       " Parameter containing:\n",
       " tensor([ 2.6121e-02, -1.8031e-02,  2.5808e-02,  4.1723e-02,  1.4235e-02,\n",
       "         -2.1671e-02, -5.9541e-03, -3.4457e-02, -2.7716e-02, -2.9989e-02,\n",
       "          2.6691e-02,  1.8278e-02,  2.0129e-02, -4.2784e-03,  4.0748e-02,\n",
       "          1.3072e-02, -2.2991e-02,  1.2531e-02,  2.2913e-02,  3.2447e-02,\n",
       "          1.6116e-02,  5.3802e-03,  3.0304e-03, -2.3391e-02,  1.8897e-02,\n",
       "          4.9147e-03, -2.3498e-02, -3.8222e-02,  1.4625e-02, -2.3493e-02,\n",
       "          1.0828e-02,  3.7285e-02, -1.6154e-03,  1.6028e-02,  1.2374e-02,\n",
       "         -3.5855e-02,  2.3379e-02,  3.9193e-02, -6.7050e-03, -1.0593e-02,\n",
       "          1.2257e-02, -1.3930e-02,  3.9181e-02, -2.6361e-02,  3.6739e-02,\n",
       "         -1.5040e-02, -2.1811e-02,  2.0779e-02, -3.5769e-02, -4.2606e-02,\n",
       "          2.8265e-02, -2.2163e-02, -2.4986e-02,  3.4714e-02,  2.0512e-02,\n",
       "          2.6360e-02, -1.1996e-02,  1.4090e-02, -3.7490e-02,  1.0910e-02,\n",
       "         -1.6335e-02, -1.6185e-02, -3.6821e-02, -2.6872e-02, -2.8051e-03,\n",
       "          1.1150e-02,  1.8192e-02,  1.1455e-02, -2.8172e-02, -2.9866e-02,\n",
       "         -4.2690e-02,  3.2761e-02,  3.2282e-03, -1.0644e-02,  4.6035e-03,\n",
       "          3.6118e-02,  2.7915e-03, -2.9944e-02, -1.5882e-02, -8.3974e-03,\n",
       "         -3.5443e-02,  5.8247e-03, -2.4160e-02, -2.9843e-03, -1.2991e-02,\n",
       "         -3.8246e-02, -3.0527e-02, -7.1900e-03,  1.7935e-02,  1.7879e-02,\n",
       "          9.5136e-03,  1.0514e-03, -6.5339e-03,  2.7490e-02, -4.1791e-02,\n",
       "         -3.5302e-02, -2.5763e-02, -2.9347e-02,  1.1246e-02, -3.3548e-02,\n",
       "         -3.6642e-02, -2.0727e-02, -1.1653e-02,  3.3668e-02,  8.9928e-03,\n",
       "         -1.0927e-02, -4.2830e-02,  2.6353e-02, -3.8284e-02,  5.5919e-03,\n",
       "         -1.7873e-02,  4.2381e-02,  1.8061e-02, -1.8285e-02, -1.8342e-02,\n",
       "         -4.3928e-02,  1.0720e-02, -4.1843e-02,  2.4251e-02, -3.6988e-02,\n",
       "          4.0404e-02, -5.9113e-03, -5.2769e-03, -2.1166e-02,  1.8358e-02,\n",
       "         -3.1002e-02, -2.6584e-02,  3.3832e-02, -1.3004e-02, -1.1553e-02,\n",
       "         -1.2899e-02, -2.7394e-03, -1.5822e-02, -9.0800e-05, -2.0928e-03,\n",
       "          2.1777e-02,  4.0990e-02, -3.3329e-03, -4.3664e-02, -4.2401e-02,\n",
       "          6.7666e-03, -1.5355e-02, -1.5535e-02, -2.2710e-02,  1.6760e-02,\n",
       "         -1.4428e-02, -6.0349e-03,  8.8748e-03, -1.5577e-02, -3.3517e-02,\n",
       "          1.5735e-03,  2.6642e-03,  2.4505e-02,  1.9958e-02, -1.2505e-03,\n",
       "          5.5398e-03, -2.2690e-02,  1.4954e-02, -3.1112e-02,  1.3703e-02,\n",
       "         -1.9281e-02,  2.9021e-02, -4.2167e-02, -3.7057e-03,  4.3717e-02,\n",
       "         -4.3409e-04, -3.4677e-02, -6.6243e-03,  2.4016e-02, -3.8236e-02,\n",
       "         -3.0492e-02, -4.2237e-02,  4.1674e-02, -1.7691e-02, -4.3708e-02,\n",
       "          2.3068e-02, -1.0784e-02,  5.9386e-03,  2.5007e-02,  1.1433e-02,\n",
       "         -1.0687e-02,  3.1377e-02,  1.3973e-02,  3.0815e-02, -3.0992e-02,\n",
       "         -2.6568e-02,  1.7849e-02, -2.2989e-02, -7.8645e-03,  2.6702e-02,\n",
       "         -6.3090e-03,  2.9899e-02, -1.2120e-02,  3.9677e-03, -1.2996e-02,\n",
       "          2.0271e-02, -2.2390e-03,  7.5668e-03, -7.9264e-03,  3.7354e-02,\n",
       "         -5.5585e-03, -2.9776e-02, -2.2112e-02, -3.5365e-02, -4.8547e-04,\n",
       "          2.0541e-02, -8.9554e-03,  3.1327e-02, -1.8822e-03,  2.9745e-02,\n",
       "          3.7721e-02,  2.2462e-02, -3.3355e-02, -2.3686e-02,  7.4404e-03,\n",
       "         -3.0544e-02,  2.4215e-02, -7.6852e-03, -1.6602e-02,  2.2488e-02,\n",
       "          1.3469e-02, -3.1898e-02,  3.0167e-02, -1.6517e-03,  2.3404e-02,\n",
       "         -3.9492e-02, -1.0853e-02, -2.7333e-02, -2.4273e-02,  6.5441e-03,\n",
       "          9.6121e-03, -4.2857e-02,  3.1354e-02,  2.3014e-02, -1.9058e-03,\n",
       "         -2.8314e-02,  3.1349e-02, -1.1294e-02, -2.1475e-02, -7.1108e-03,\n",
       "         -3.3969e-02,  1.2415e-02,  8.1667e-03, -1.1398e-02,  1.3316e-02,\n",
       "         -1.1222e-02, -1.8096e-02, -1.0053e-02,  2.8597e-02,  1.2324e-02,\n",
       "          1.5334e-02,  4.7436e-03, -2.5725e-02,  4.0113e-02, -3.6291e-02,\n",
       "          1.4350e-02], device='cuda:0', requires_grad=True),\n",
       " Parameter containing:\n",
       " tensor([[ 0.0083, -0.0099,  0.0021,  ...,  0.0254, -0.0319,  0.0151],\n",
       "         [ 0.0069,  0.0309, -0.0392,  ...,  0.0139, -0.0125, -0.0086],\n",
       "         [ 0.0332,  0.0277, -0.0597,  ...,  0.0497, -0.0529, -0.0224],\n",
       "         ...,\n",
       "         [-0.0113, -0.0037,  0.0098,  ...,  0.0600,  0.0497,  0.0288],\n",
       "         [-0.0516,  0.0586, -0.0237,  ..., -0.0323,  0.0271,  0.0587],\n",
       "         [-0.0048, -0.0430,  0.0507,  ..., -0.0486, -0.0363,  0.0523]],\n",
       "        device='cuda:0', requires_grad=True),\n",
       " Parameter containing:\n",
       " tensor([-0.0182, -0.0007,  0.0004, -0.0073,  0.0470, -0.0305, -0.0469,  0.0375,\n",
       "          0.0518,  0.0494], device='cuda:0', requires_grad=True)]"
      ]
     },
     "execution_count": 15,
     "metadata": {},
     "output_type": "execute_result"
    }
   ],
   "source": [
    "device = torch.device('cuda:0' if torch.cuda.is_available() else 'cpu')\n",
    "\n",
    "# для параллельной обработки на GPUS\n",
    "# if torch.cuda.device_count() > 1:\n",
    "#     mnist_net = nn.DataParallel(mnist_net, device_ids=[0,1,3])\n",
    "\n",
    "\n",
    "mnist_net = mnist_net.to(device)\n",
    "list(mnist_net.parameters())"
   ]
  },
  {
   "cell_type": "code",
   "execution_count": 16,
   "metadata": {
    "colab": {},
    "colab_type": "code",
    "id": "00_2j2igpS3o"
   },
   "outputs": [],
   "source": [
    "loss = torch.nn.CrossEntropyLoss()\n",
    "\n",
    "# уменьшил шаг спуска - более гладский спуск\n",
    "# optimizer = torch.optim.Adam(mnist_net.parameters(), lr=1.0e-4)\n",
    "optimizer = torch.optim.RMSprop(mnist_net.parameters(), lr=1.0e-4)"
   ]
  },
  {
   "cell_type": "code",
   "execution_count": 17,
   "metadata": {
    "colab": {
     "base_uri": "https://localhost:8080/",
     "height": 232
    },
    "colab_type": "code",
    "executionInfo": {
     "elapsed": 1219,
     "status": "error",
     "timestamp": 1589362716725,
     "user": {
      "displayName": "Roman Zakharov",
      "photoUrl": "",
      "userId": "18255168926005506833"
     },
     "user_tz": -240
    },
    "id": "wZtqiGvfpS3r",
    "outputId": "5045b355-f7ee-48fb-ac2b-a6a8213ae546"
   },
   "outputs": [
    {
     "name": "stdout",
     "output_type": "stream",
     "text": [
      "tensor(0.9589, device='cuda:0')\n",
      "tensor(0.9695, device='cuda:0')\n",
      "tensor(0.9638, device='cuda:0')\n",
      "tensor(0.9741, device='cuda:0')\n",
      "tensor(0.9769, device='cuda:0')\n",
      "tensor(0.9713, device='cuda:0')\n",
      "tensor(0.9784, device='cuda:0')\n",
      "tensor(0.9768, device='cuda:0')\n",
      "tensor(0.9708, device='cuda:0')\n",
      "tensor(0.9782, device='cuda:0')\n",
      "tensor(0.9763, device='cuda:0')\n",
      "tensor(0.9773, device='cuda:0')\n",
      "tensor(0.9776, device='cuda:0')\n",
      "tensor(0.9789, device='cuda:0')\n",
      "tensor(0.9794, device='cuda:0')\n",
      "tensor(0.9773, device='cuda:0')\n",
      "tensor(0.9790, device='cuda:0')\n",
      "tensor(0.9814, device='cuda:0')\n",
      "tensor(0.9810, device='cuda:0')\n",
      "tensor(0.9757, device='cuda:0')\n",
      "tensor(0.9753, device='cuda:0')\n",
      "tensor(0.9810, device='cuda:0')\n",
      "tensor(0.9798, device='cuda:0')\n",
      "tensor(0.9806, device='cuda:0')\n",
      "tensor(0.9801, device='cuda:0')\n",
      "CPU times: user 3min 9s, sys: 2.91 s, total: 3min 12s\n",
      "Wall time: 3min 11s\n"
     ]
    }
   ],
   "source": [
    "%%time\n",
    "# уменьшим батч\n",
    "batch_size = 10\n",
    "# увеличим кол-во эпох\n",
    "EPOCHS = 25\n",
    "\n",
    "test_accuracy_history = []\n",
    "test_loss_history = []\n",
    "\n",
    "X_test = X_test.to(device)\n",
    "y_test = y_test.to(device)\n",
    "\n",
    "for epoch in range(EPOCHS):\n",
    "    order = np.random.permutation(len(X_train))\n",
    "    \n",
    "    for start_index in range(0, len(X_train), batch_size):\n",
    "        optimizer.zero_grad()\n",
    "        \n",
    "        batch_indexes = order[start_index:start_index+batch_size]\n",
    "        \n",
    "        X_batch = X_train[batch_indexes].to(device)\n",
    "        y_batch = y_train[batch_indexes].to(device)\n",
    "        \n",
    "        preds = mnist_net.forward(X_batch) \n",
    "        \n",
    "        loss_value = loss(preds, y_batch)\n",
    "        loss_value.backward()\n",
    "        \n",
    "        optimizer.step()\n",
    "\n",
    "    test_preds = mnist_net.forward(X_test)\n",
    "    test_loss_history.append(loss(test_preds, y_test))\n",
    "    \n",
    "    accuracy = (test_preds.argmax(dim=1) == y_test).float().mean()\n",
    "    test_accuracy_history.append(accuracy)\n",
    "    print(accuracy)"
   ]
  },
  {
   "cell_type": "code",
   "execution_count": 18,
   "metadata": {
    "colab": {
     "base_uri": "https://localhost:8080/",
     "height": 265
    },
    "colab_type": "code",
    "executionInfo": {
     "elapsed": 946,
     "status": "ok",
     "timestamp": 1589354615251,
     "user": {
      "displayName": "Roman Zakharov",
      "photoUrl": "",
      "userId": "18255168926005506833"
     },
     "user_tz": -240
    },
    "id": "kLnumX3SpS3u",
    "outputId": "3fac44c4-c749-477c-b315-ee8062289841"
   },
   "outputs": [
    {
     "data": {
      "image/png": "[encoded data removed]",
      "text/plain": [
       "<Figure size 432x288 with 1 Axes>"
      ]
     },
     "metadata": {
      "needs_background": "light"
     },
     "output_type": "display_data"
    }
   ],
   "source": [
    "plt.plot(test_accuracy_history)\n",
    "plt.plot(test_loss_history);"
   ]
  },
  {
   "cell_type": "code",
   "execution_count": 19,
   "metadata": {
    "colab": {},
    "colab_type": "code",
    "id": "-nu1318JpS3y"
   },
   "outputs": [
    {
     "name": "stdout",
     "output_type": "stream",
     "text": [
      "Min loss = 0.11371394246816635, index = 4, Accuracy = 0.9768999814987183\n"
     ]
    }
   ],
   "source": [
    "idx_loss_min = np.argmin(test_loss_history)\n",
    "print(f'Min loss = {test_loss_history[idx_loss_min]}, index = {idx_loss_min}, Accuracy = {test_accuracy_history[idx_loss_min]}')"
   ]
  },
  {
   "cell_type": "code",
   "execution_count": 20,
   "metadata": {},
   "outputs": [
    {
     "name": "stdout",
     "output_type": "stream",
     "text": [
      "Max accuracy = 0.9813999533653259, index = 17, Loss = 0.24585393071174622\n"
     ]
    }
   ],
   "source": [
    "idx_acc_max = np.argmax(test_accuracy_history)\n",
    "print(f'Max accuracy = {test_accuracy_history[idx_acc_max]}, index = {idx_acc_max}, Loss = {test_loss_history[idx_acc_max]}')"
   ]
  },
  {
   "cell_type": "markdown",
   "metadata": {},
   "source": [
    "<b>Наблюдение:</b>\n",
    "<p>\n",
    "Следующие параметры привели к переобучению\n",
    "<lo>\n",
    "    <li> Смена активации слоев на RELU </li>\n",
    "    <li> Смена оптимизатора на RMSprop и выставление ему шага 1.0e-4 </li>\n",
    "    <li> Остальные параметры существенного влияния именно на переобучение не имели </li>\n",
    "</lo>\n"
   ]
  },
  {
   "cell_type": "code",
   "execution_count": null,
   "metadata": {},
   "outputs": [],
   "source": []
  }
 ],
 "metadata": {
  "accelerator": "GPU",
  "colab": {
   "collapsed_sections": [],
   "name": "part5.ipynb",
   "provenance": []
  },
  "kernelspec": {
   "display_name": "Python 3",
   "language": "python",
   "name": "python3"
  },
  "language_info": {
   "codemirror_mode": {
    "name": "ipython",
    "version": 3
   },
   "file_extension": ".py",
   "mimetype": "text/x-python",
   "name": "python",
   "nbconvert_exporter": "python",
   "pygments_lexer": "ipython3",
   "version": "3.8.2"
  }
 },
 "nbformat": 4,
 "nbformat_minor": 4
}
