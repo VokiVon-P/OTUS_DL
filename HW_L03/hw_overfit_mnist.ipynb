{
 "cells": [
  {
   "cell_type": "code",
   "execution_count": 1,
   "metadata": {
    "colab": {},
    "colab_type": "code",
    "id": "DWr6cvb9pS3J"
   },
   "outputs": [],
   "source": [
    "import torch\n",
    "import random\n",
    "import numpy as np\n",
    "import torch.nn as nn\n",
    "\n",
    "import matplotlib.pyplot as plt\n",
    "plt.style.use('fivethirtyeight')\n",
    "# plt.style.use('seaborn-pastel')\n",
    "\n",
    "random.seed(0)\n",
    "np.random.seed(0)\n",
    "torch.manual_seed(0)\n",
    "torch.cuda.manual_seed(0)\n",
    "torch.backends.cudnn.deterministic = True\n",
    "# %pylab widgetsnbextension"
   ]
  },
  {
   "cell_type": "code",
   "execution_count": 2,
   "metadata": {},
   "outputs": [],
   "source": [
    "# !pip install ipywidgets\n",
    "# !jupyter lab nbextension enable --py widgetsnbextension"
   ]
  },
  {
   "cell_type": "code",
   "execution_count": 3,
   "metadata": {
    "colab": {},
    "colab_type": "code",
    "id": "MqGQWTDIpS3R"
   },
   "outputs": [],
   "source": [
    "import torchvision.datasets\n",
    "MNIST_train = torchvision.datasets.MNIST('../data/MNIST_data', download=True, train=True)\n",
    "MNIST_test = torchvision.datasets.MNIST('../data/MNIST_data', download=True, train=False)"
   ]
  },
  {
   "cell_type": "code",
   "execution_count": 4,
   "metadata": {
    "colab": {},
    "colab_type": "code",
    "id": "vv_Lz7PYpS3U"
   },
   "outputs": [],
   "source": [
    "X_train = MNIST_train.data\n",
    "y_train = MNIST_train.targets\n",
    "X_test = MNIST_test.data\n",
    "y_test = MNIST_test.targets"
   ]
  },
  {
   "cell_type": "code",
   "execution_count": 5,
   "metadata": {
    "colab": {
     "base_uri": "https://localhost:8080/",
     "height": 34
    },
    "colab_type": "code",
    "executionInfo": {
     "elapsed": 788,
     "status": "ok",
     "timestamp": 1589354352668,
     "user": {
      "displayName": "Roman Zakharov",
      "photoUrl": "",
      "userId": "18255168926005506833"
     },
     "user_tz": -240
    },
    "id": "hMhsAedlrQF5",
    "outputId": "ed1f9fad-b390-41eb-fef7-221c95e6743f"
   },
   "outputs": [
    {
     "data": {
      "text/plain": [
       "(torch.uint8, torch.int64)"
      ]
     },
     "execution_count": 5,
     "metadata": {},
     "output_type": "execute_result"
    }
   ],
   "source": [
    "X_train.dtype, y_train.dtype"
   ]
  },
  {
   "cell_type": "code",
   "execution_count": 6,
   "metadata": {
    "colab": {},
    "colab_type": "code",
    "id": "_yTaVOrPvap6"
   },
   "outputs": [],
   "source": [
    "X_train = X_train.float()\n",
    "X_test = X_test.float()"
   ]
  },
  {
   "cell_type": "code",
   "execution_count": 7,
   "metadata": {
    "colab": {
     "base_uri": "https://localhost:8080/",
     "height": 34
    },
    "colab_type": "code",
    "executionInfo": {
     "elapsed": 811,
     "status": "ok",
     "timestamp": 1589354358466,
     "user": {
      "displayName": "Roman Zakharov",
      "photoUrl": "",
      "userId": "18255168926005506833"
     },
     "user_tz": -240
    },
    "id": "_gfupg4kpS3X",
    "outputId": "d9a076a7-ffe8-4027-a64f-7730d95840ef"
   },
   "outputs": [
    {
     "data": {
      "text/plain": [
       "(torch.Size([60000, 28, 28]), torch.Size([10000, 28, 28]))"
      ]
     },
     "execution_count": 7,
     "metadata": {},
     "output_type": "execute_result"
    }
   ],
   "source": [
    "X_train.shape, X_test.shape"
   ]
  },
  {
   "cell_type": "code",
   "execution_count": 8,
   "metadata": {
    "colab": {
     "base_uri": "https://localhost:8080/",
     "height": 34
    },
    "colab_type": "code",
    "executionInfo": {
     "elapsed": 807,
     "status": "ok",
     "timestamp": 1589354364916,
     "user": {
      "displayName": "Roman Zakharov",
      "photoUrl": "",
      "userId": "18255168926005506833"
     },
     "user_tz": -240
    },
    "id": "zEC1RXBEz_SW",
    "outputId": "02032d08-ccde-4001-fd40-defc2c585c0a"
   },
   "outputs": [
    {
     "data": {
      "text/plain": [
       "(torch.Size([60000]), torch.Size([10000]))"
      ]
     },
     "execution_count": 8,
     "metadata": {},
     "output_type": "execute_result"
    }
   ],
   "source": [
    "y_train.shape, y_test.shape"
   ]
  },
  {
   "cell_type": "code",
   "execution_count": 9,
   "metadata": {
    "colab": {
     "base_uri": "https://localhost:8080/",
     "height": 282
    },
    "colab_type": "code",
    "executionInfo": {
     "elapsed": 968,
     "status": "ok",
     "timestamp": 1589354395263,
     "user": {
      "displayName": "Roman Zakharov",
      "photoUrl": "",
      "userId": "18255168926005506833"
     },
     "user_tz": -240
    },
    "id": "Z1tFXMwJpS3e",
    "outputId": "9aa55452-edc0-418f-f41f-206b036e1bd6"
   },
   "outputs": [
    {
     "data": {
      "image/png": "[encoded data removed]",
      "text/plain": [
       "<Figure size 432x288 with 1 Axes>"
      ]
     },
     "metadata": {},
     "output_type": "display_data"
    },
    {
     "name": "stdout",
     "output_type": "stream",
     "text": [
      "tensor(3)\n"
     ]
    }
   ],
   "source": [
    "plt.imshow(X_train[10, :, :])\n",
    "plt.show()\n",
    "print(y_train[10])"
   ]
  },
  {
   "cell_type": "code",
   "execution_count": 10,
   "metadata": {
    "colab": {},
    "colab_type": "code",
    "id": "IUZgNg7zpS3j"
   },
   "outputs": [],
   "source": [
    "X_train = X_train.reshape([-1, 28 * 28])\n",
    "X_test = X_test.reshape([-1, 28 * 28])"
   ]
  },
  {
   "cell_type": "code",
   "execution_count": 11,
   "metadata": {},
   "outputs": [],
   "source": [
    "class MNISTNetLight(torch.nn.Module):\n",
    "    def __init__(self, n_hidden_neurons):\n",
    "        super(MNISTNetLight, self).__init__()\n",
    "        \n",
    "        half_hidden = int(n_hidden_neurons/2)\n",
    "        q_hidden = int(half_hidden/2)\n",
    "        n8_hidden = int(q_hidden/2)\n",
    "        n16_hidden = int(n8_hidden/2)\n",
    "        \n",
    "        self.fc1 = torch.nn.Linear(28 * 28, n_hidden_neurons)\n",
    "        self.ac1 = torch.nn.ReLU()\n",
    "        self.fc2 = torch.nn.Linear(n_hidden_neurons, half_hidden) \n",
    "        self.ac2 = torch.nn.ReLU()\n",
    "        self.fc3 = torch.nn.Linear(half_hidden, 10) \n",
    "\n",
    "    \n",
    "    def forward(self, x):\n",
    "        x = self.fc1(x)\n",
    "        x = self.ac1(x)\n",
    "        x = self.fc2(x)\n",
    "        x = self.ac2(x)\n",
    "        x = self.fc3(x)\n",
    "        return x"
   ]
  },
  {
   "cell_type": "code",
   "execution_count": 12,
   "metadata": {
    "colab": {},
    "colab_type": "code",
    "id": "k7l65slppS3l"
   },
   "outputs": [],
   "source": [
    "# добавил денс слои обратной пирамидой (div 2)\n",
    "# скорее для увеличения точности\n",
    "\n",
    "class MNISTNetDeep(torch.nn.Module):\n",
    "    def __init__(self, n_hidden_neurons):\n",
    "        super(MNISTNetDeep, self).__init__()\n",
    "        \n",
    "        half_hidden = int(n_hidden_neurons/2)\n",
    "        q_hidden = int(half_hidden/2)\n",
    "        n8_hidden = int(q_hidden/2)\n",
    "        n16_hidden = int(n8_hidden/2)\n",
    "        \n",
    "        self.fc1 = torch.nn.Linear(28 * 28, n_hidden_neurons)\n",
    "        self.ac1 = torch.nn.ReLU()\n",
    "        self.fc2 = torch.nn.Linear(n_hidden_neurons, half_hidden) \n",
    "        self.ac2 = torch.nn.ReLU()\n",
    "        self.fc3 = torch.nn.Linear(half_hidden, q_hidden) \n",
    "        self.ac3 = torch.nn.ReLU()\n",
    "        self.fc4 = torch.nn.Linear(q_hidden, n8_hidden) \n",
    "        self.ac4 = torch.nn.ReLU()\n",
    "        self.fc5 = torch.nn.Linear(n8_hidden, n16_hidden) \n",
    "        self.ac5 = torch.nn.ReLU()\n",
    "        \n",
    "        self.fc6 = torch.nn.Linear(n16_hidden, 10) \n",
    "\n",
    "    \n",
    "    def forward(self, x):\n",
    "        x = self.fc1(x)\n",
    "        x = self.ac1(x)\n",
    "        x = self.fc2(x)\n",
    "        x = self.ac2(x)\n",
    "        x = self.fc3(x)\n",
    "        x = self.ac3(x)\n",
    "        x = self.fc4(x)\n",
    "        x = self.ac4(x)\n",
    "        x = self.fc5(x)\n",
    "        x = self.ac5(x)\n",
    "        x = self.fc6(x)\n",
    "        return x\n"
   ]
  },
  {
   "cell_type": "code",
   "execution_count": 13,
   "metadata": {},
   "outputs": [],
   "source": [
    "# изменил колв-во нейронов в первом слое\n",
    "mnist_net_light = MNISTNetLight(512)\n",
    "mnist_net_deep = MNISTNetDeep(512)"
   ]
  },
  {
   "cell_type": "code",
   "execution_count": 14,
   "metadata": {
    "colab": {},
    "colab_type": "code",
    "id": "FJp7t3dR0pC5"
   },
   "outputs": [
    {
     "data": {
      "text/plain": [
       "True"
      ]
     },
     "execution_count": 14,
     "metadata": {},
     "output_type": "execute_result"
    }
   ],
   "source": [
    "torch.cuda.is_available()"
   ]
  },
  {
   "cell_type": "code",
   "execution_count": 15,
   "metadata": {
    "colab": {
     "base_uri": "https://localhost:8080/",
     "height": 335
    },
    "colab_type": "code",
    "executionInfo": {
     "elapsed": 4428,
     "status": "ok",
     "timestamp": 1589362738849,
     "user": {
      "displayName": "Roman Zakharov",
      "photoUrl": "",
      "userId": "18255168926005506833"
     },
     "user_tz": -240
    },
    "id": "ShQDv_w-0rz8",
    "outputId": "936c9d7d-e858-4d06-8af5-b28710c7de7b"
   },
   "outputs": [],
   "source": [
    "# !nvidia-smi"
   ]
  },
  {
   "cell_type": "code",
   "execution_count": 16,
   "metadata": {
    "colab": {},
    "colab_type": "code",
    "id": "iUHy-780po9d"
   },
   "outputs": [],
   "source": [
    "# настройка для экспериметов - частный случай\n",
    "device_light = torch.device('cuda:0' if torch.cuda.is_available() else 'cpu')\n",
    "device_deep = torch.device('cuda:1' if torch.cuda.is_available() else 'cpu')\n",
    "\n",
    "# для параллельной обработки на GPUS\n",
    "# if torch.cuda.device_count() > 1:\n",
    "#     mnist_net = nn.DataParallel(mnist_net, device_ids=[0,1,3])\n",
    "\n",
    "mnist_net_light = mnist_net_light.to(device_light) \n",
    "mnist_net_deep = mnist_net_deep.to(device_deep)\n",
    "# list(mnist_net.parameters())"
   ]
  },
  {
   "cell_type": "code",
   "execution_count": 17,
   "metadata": {
    "colab": {},
    "colab_type": "code",
    "id": "00_2j2igpS3o"
   },
   "outputs": [],
   "source": [
    "loss_light = torch.nn.CrossEntropyLoss()\n",
    "loss_deep = torch.nn.CrossEntropyLoss()\n",
    "\n",
    "# уменьшил шаг спуска - более гладский спуск\n",
    "# optimizer = torch.optim.Adam(mnist_net.parameters(), lr=1.0e-4)\n",
    "optimizer_light = torch.optim.RMSprop(mnist_net_light.parameters(), lr=1.0e-4)\n",
    "optimizer_deep = torch.optim.RMSprop(mnist_net_deep.parameters(), lr=1.0e-4)"
   ]
  },
  {
   "cell_type": "code",
   "execution_count": 18,
   "metadata": {},
   "outputs": [],
   "source": [
    "# функция обучения сети\n",
    "\n",
    "def train_model(model, optimizer, loss, X_train, y_train, X_test, y_test, batch_size, epochs, device):\n",
    "    \n",
    "    EPOCHS = epochs\n",
    "        \n",
    "    train_accuracy_history = []\n",
    "    test_accuracy_history = []\n",
    "\n",
    "    train_loss_history = []\n",
    "    test_loss_history = []\n",
    "    \n",
    "    X_test = X_test.to(device)\n",
    "    y_test = y_test.to(device)\n",
    "    for epoch in range(EPOCHS):\n",
    "        order = np.random.permutation(len(X_train))\n",
    "\n",
    "        for start_index in range(0, len(X_train), batch_size):\n",
    "            optimizer.zero_grad()\n",
    "\n",
    "            batch_indexes = order[start_index:start_index+batch_size]\n",
    "\n",
    "            X_batch = X_train[batch_indexes].to(device)\n",
    "            y_batch = y_train[batch_indexes].to(device)\n",
    "\n",
    "            preds = model.forward(X_batch) \n",
    "            loss_value = loss(preds, y_batch)\n",
    "\n",
    "            # добавляем метрики для train в конце каждлой эпохи\n",
    "            if start_index >= len(X_train)-batch_size:\n",
    "                train_loss_history.append(loss_value)\n",
    "                train_accuracy = (preds.argmax(dim=1) == y_batch).float().mean()\n",
    "                train_accuracy_history.append(train_accuracy)\n",
    "                print(f'EPOCH: {epoch:2d}  Train accuracy = {train_accuracy}')\n",
    "\n",
    "            loss_value.backward()\n",
    "            optimizer.step()\n",
    "\n",
    "        test_preds = model.forward(X_test)\n",
    "        test_loss_history.append(loss(test_preds, y_test))\n",
    "\n",
    "        accuracy = (test_preds.argmax(dim=1) == y_test).float().mean()\n",
    "        test_accuracy_history.append(accuracy)\n",
    "        print(f'EPOCH: {epoch:2d}  Test accuracy  = {accuracy}')    \n",
    "    \n",
    "    return train_accuracy_history, test_accuracy_history, train_loss_history, test_loss_history"
   ]
  },
  {
   "cell_type": "code",
   "execution_count": 19,
   "metadata": {},
   "outputs": [
    {
     "name": "stdout",
     "output_type": "stream",
     "text": [
      "EPOCH:  0  Train accuracy = 0.9000000357627869\n",
      "EPOCH:  0  Test accuracy  = 0.9645999670028687\n",
      "EPOCH:  1  Train accuracy = 0.9666666984558105\n",
      "EPOCH:  1  Test accuracy  = 0.9679999947547913\n",
      "EPOCH:  2  Train accuracy = 1.0\n",
      "EPOCH:  2  Test accuracy  = 0.9678999781608582\n",
      "EPOCH:  3  Train accuracy = 1.0\n",
      "EPOCH:  3  Test accuracy  = 0.9740999937057495\n",
      "EPOCH:  4  Train accuracy = 1.0\n",
      "EPOCH:  4  Test accuracy  = 0.9757999777793884\n",
      "EPOCH:  5  Train accuracy = 0.9666666984558105\n",
      "EPOCH:  5  Test accuracy  = 0.9747999906539917\n",
      "EPOCH:  6  Train accuracy = 1.0\n",
      "EPOCH:  6  Test accuracy  = 0.972000002861023\n",
      "EPOCH:  7  Train accuracy = 1.0\n",
      "EPOCH:  7  Test accuracy  = 0.9787999987602234\n",
      "EPOCH:  8  Train accuracy = 1.0\n",
      "EPOCH:  8  Test accuracy  = 0.9776999950408936\n",
      "EPOCH:  9  Train accuracy = 1.0\n",
      "EPOCH:  9  Test accuracy  = 0.9768999814987183\n",
      "EPOCH: 10  Train accuracy = 1.0\n",
      "EPOCH: 10  Test accuracy  = 0.9733999967575073\n",
      "EPOCH: 11  Train accuracy = 1.0\n",
      "EPOCH: 11  Test accuracy  = 0.9786999821662903\n",
      "EPOCH: 12  Train accuracy = 1.0\n",
      "EPOCH: 12  Test accuracy  = 0.9745999574661255\n",
      "EPOCH: 13  Train accuracy = 1.0\n",
      "EPOCH: 13  Test accuracy  = 0.9781000018119812\n",
      "EPOCH: 14  Train accuracy = 0.9666666984558105\n",
      "EPOCH: 14  Test accuracy  = 0.9809999465942383\n",
      "EPOCH: 15  Train accuracy = 1.0\n",
      "EPOCH: 15  Test accuracy  = 0.9821999669075012\n",
      "EPOCH: 16  Train accuracy = 1.0\n",
      "EPOCH: 16  Test accuracy  = 0.9797999858856201\n",
      "EPOCH: 17  Train accuracy = 1.0\n",
      "EPOCH: 17  Test accuracy  = 0.9799000024795532\n",
      "EPOCH: 18  Train accuracy = 0.9666666984558105\n",
      "EPOCH: 18  Test accuracy  = 0.9821999669075012\n",
      "EPOCH: 19  Train accuracy = 1.0\n",
      "EPOCH: 19  Test accuracy  = 0.9805999994277954\n",
      "EPOCH: 20  Train accuracy = 1.0\n",
      "EPOCH: 20  Test accuracy  = 0.9777999520301819\n",
      "EPOCH: 21  Train accuracy = 1.0\n",
      "EPOCH: 21  Test accuracy  = 0.9815999865531921\n",
      "EPOCH: 22  Train accuracy = 1.0\n",
      "EPOCH: 22  Test accuracy  = 0.9795999526977539\n",
      "EPOCH: 23  Train accuracy = 1.0\n",
      "EPOCH: 23  Test accuracy  = 0.9815999865531921\n",
      "EPOCH: 24  Train accuracy = 1.0\n",
      "EPOCH: 24  Test accuracy  = 0.9807999730110168\n",
      "EPOCH: 25  Train accuracy = 1.0\n",
      "EPOCH: 25  Test accuracy  = 0.9786999821662903\n",
      "EPOCH: 26  Train accuracy = 1.0\n",
      "EPOCH: 26  Test accuracy  = 0.9783999919891357\n",
      "EPOCH: 27  Train accuracy = 1.0\n",
      "EPOCH: 27  Test accuracy  = 0.9815999865531921\n",
      "EPOCH: 28  Train accuracy = 1.0\n",
      "EPOCH: 28  Test accuracy  = 0.9825999736785889\n",
      "EPOCH: 29  Train accuracy = 1.0\n",
      "EPOCH: 29  Test accuracy  = 0.9807999730110168\n",
      "EPOCH: 30  Train accuracy = 1.0\n",
      "EPOCH: 30  Test accuracy  = 0.9806999564170837\n",
      "EPOCH: 31  Train accuracy = 1.0\n",
      "EPOCH: 31  Test accuracy  = 0.9802999496459961\n",
      "EPOCH: 32  Train accuracy = 1.0\n",
      "EPOCH: 32  Test accuracy  = 0.9822999835014343\n",
      "EPOCH: 33  Train accuracy = 1.0\n",
      "EPOCH: 33  Test accuracy  = 0.9820999503135681\n",
      "EPOCH: 34  Train accuracy = 1.0\n",
      "EPOCH: 34  Test accuracy  = 0.9804999828338623\n",
      "EPOCH: 35  Train accuracy = 1.0\n",
      "EPOCH: 35  Test accuracy  = 0.9801999926567078\n",
      "EPOCH: 36  Train accuracy = 0.9666666984558105\n",
      "EPOCH: 36  Test accuracy  = 0.981499969959259\n",
      "EPOCH: 37  Train accuracy = 1.0\n",
      "EPOCH: 37  Test accuracy  = 0.9845999479293823\n",
      "EPOCH: 38  Train accuracy = 1.0\n",
      "EPOCH: 38  Test accuracy  = 0.9815999865531921\n",
      "EPOCH: 39  Train accuracy = 1.0\n",
      "EPOCH: 39  Test accuracy  = 0.9802999496459961\n",
      "EPOCH: 40  Train accuracy = 1.0\n",
      "EPOCH: 40  Test accuracy  = 0.9821999669075012\n",
      "EPOCH: 41  Train accuracy = 1.0\n",
      "EPOCH: 41  Test accuracy  = 0.9817000031471252\n",
      "EPOCH: 42  Train accuracy = 1.0\n",
      "EPOCH: 42  Test accuracy  = 0.9824999570846558\n",
      "EPOCH: 43  Train accuracy = 0.9666666984558105\n",
      "EPOCH: 43  Test accuracy  = 0.9819999933242798\n",
      "EPOCH: 44  Train accuracy = 1.0\n",
      "EPOCH: 44  Test accuracy  = 0.9827999472618103\n",
      "EPOCH: 45  Train accuracy = 1.0\n",
      "EPOCH: 45  Test accuracy  = 0.9802999496459961\n",
      "EPOCH: 46  Train accuracy = 1.0\n",
      "EPOCH: 46  Test accuracy  = 0.9837999939918518\n",
      "EPOCH: 47  Train accuracy = 1.0\n",
      "EPOCH: 47  Test accuracy  = 0.9804999828338623\n",
      "EPOCH: 48  Train accuracy = 1.0\n",
      "EPOCH: 48  Test accuracy  = 0.9817000031471252\n",
      "EPOCH: 49  Train accuracy = 1.0\n",
      "EPOCH: 49  Test accuracy  = 0.9809999465942383\n",
      "CPU times: user 2min 25s, sys: 2.02 s, total: 2min 27s\n",
      "Wall time: 2min 26s\n"
     ]
    }
   ],
   "source": [
    "%%time\n",
    "acc_train_l, acc_test_l, loss_train_l, loss_test_l = \\\n",
    "    train_model(mnist_net_light, \n",
    "                optimizer_light, \n",
    "                loss_light, \n",
    "                X_train, y_train, \n",
    "                X_test, y_test, \n",
    "                batch_size=30, \n",
    "                epochs=50, \n",
    "                device=device_light)"
   ]
  },
  {
   "cell_type": "code",
   "execution_count": 20,
   "metadata": {},
   "outputs": [
    {
     "name": "stdout",
     "output_type": "stream",
     "text": [
      "EPOCH:  0  Train accuracy = 1.0\n",
      "EPOCH:  0  Test accuracy  = 0.9634999632835388\n",
      "EPOCH:  1  Train accuracy = 0.9666666984558105\n",
      "EPOCH:  1  Test accuracy  = 0.9713999629020691\n",
      "EPOCH:  2  Train accuracy = 1.0\n",
      "EPOCH:  2  Test accuracy  = 0.9761999845504761\n",
      "EPOCH:  3  Train accuracy = 0.9666666984558105\n",
      "EPOCH:  3  Test accuracy  = 0.9789999723434448\n",
      "EPOCH:  4  Train accuracy = 1.0\n",
      "EPOCH:  4  Test accuracy  = 0.9801999926567078\n",
      "EPOCH:  5  Train accuracy = 1.0\n",
      "EPOCH:  5  Test accuracy  = 0.9789999723434448\n",
      "EPOCH:  6  Train accuracy = 1.0\n",
      "EPOCH:  6  Test accuracy  = 0.9792999625205994\n",
      "EPOCH:  7  Train accuracy = 1.0\n",
      "EPOCH:  7  Test accuracy  = 0.9815999865531921\n",
      "EPOCH:  8  Train accuracy = 1.0\n",
      "EPOCH:  8  Test accuracy  = 0.9803999662399292\n",
      "EPOCH:  9  Train accuracy = 1.0\n",
      "EPOCH:  9  Test accuracy  = 0.9817999601364136\n",
      "EPOCH: 10  Train accuracy = 1.0\n",
      "EPOCH: 10  Test accuracy  = 0.9794999957084656\n",
      "EPOCH: 11  Train accuracy = 1.0\n",
      "EPOCH: 11  Test accuracy  = 0.9815999865531921\n",
      "EPOCH: 12  Train accuracy = 1.0\n",
      "EPOCH: 12  Test accuracy  = 0.9813999533653259\n",
      "EPOCH: 13  Train accuracy = 1.0\n",
      "EPOCH: 13  Test accuracy  = 0.9804999828338623\n",
      "EPOCH: 14  Train accuracy = 1.0\n",
      "EPOCH: 14  Test accuracy  = 0.9775999784469604\n",
      "EPOCH: 15  Train accuracy = 0.9666666984558105\n",
      "EPOCH: 15  Test accuracy  = 0.976699948310852\n",
      "EPOCH: 16  Train accuracy = 1.0\n",
      "EPOCH: 16  Test accuracy  = 0.9810999631881714\n",
      "EPOCH: 17  Train accuracy = 1.0\n",
      "EPOCH: 17  Test accuracy  = 0.9804999828338623\n",
      "EPOCH: 18  Train accuracy = 1.0\n",
      "EPOCH: 18  Test accuracy  = 0.9810999631881714\n",
      "EPOCH: 19  Train accuracy = 0.9666666984558105\n",
      "EPOCH: 19  Test accuracy  = 0.9782999753952026\n",
      "EPOCH: 20  Train accuracy = 1.0\n",
      "EPOCH: 20  Test accuracy  = 0.9803999662399292\n",
      "EPOCH: 21  Train accuracy = 1.0\n",
      "EPOCH: 21  Test accuracy  = 0.9813999533653259\n",
      "EPOCH: 22  Train accuracy = 1.0\n",
      "EPOCH: 22  Test accuracy  = 0.9822999835014343\n",
      "EPOCH: 23  Train accuracy = 1.0\n",
      "EPOCH: 23  Test accuracy  = 0.9813999533653259\n",
      "EPOCH: 24  Train accuracy = 1.0\n",
      "EPOCH: 24  Test accuracy  = 0.9822999835014343\n",
      "EPOCH: 25  Train accuracy = 1.0\n",
      "EPOCH: 25  Test accuracy  = 0.9824000000953674\n",
      "EPOCH: 26  Train accuracy = 1.0\n",
      "EPOCH: 26  Test accuracy  = 0.9821999669075012\n",
      "EPOCH: 27  Train accuracy = 1.0\n",
      "EPOCH: 27  Test accuracy  = 0.9797999858856201\n",
      "EPOCH: 28  Train accuracy = 1.0\n",
      "EPOCH: 28  Test accuracy  = 0.9828999638557434\n",
      "EPOCH: 29  Train accuracy = 1.0\n",
      "EPOCH: 29  Test accuracy  = 0.9818999767303467\n",
      "EPOCH: 30  Train accuracy = 1.0\n",
      "EPOCH: 30  Test accuracy  = 0.981499969959259\n",
      "EPOCH: 31  Train accuracy = 1.0\n",
      "EPOCH: 31  Test accuracy  = 0.9811999797821045\n",
      "EPOCH: 32  Train accuracy = 1.0\n",
      "EPOCH: 32  Test accuracy  = 0.9804999828338623\n",
      "EPOCH: 33  Train accuracy = 1.0\n",
      "EPOCH: 33  Test accuracy  = 0.9817000031471252\n",
      "EPOCH: 34  Train accuracy = 1.0\n",
      "EPOCH: 34  Test accuracy  = 0.9793999791145325\n",
      "EPOCH: 35  Train accuracy = 1.0\n",
      "EPOCH: 35  Test accuracy  = 0.9813999533653259\n",
      "EPOCH: 36  Train accuracy = 1.0\n",
      "EPOCH: 36  Test accuracy  = 0.9815999865531921\n",
      "EPOCH: 37  Train accuracy = 1.0\n",
      "EPOCH: 37  Test accuracy  = 0.9817000031471252\n",
      "EPOCH: 38  Train accuracy = 1.0\n",
      "EPOCH: 38  Test accuracy  = 0.9809999465942383\n",
      "EPOCH: 39  Train accuracy = 1.0\n",
      "EPOCH: 39  Test accuracy  = 0.982699990272522\n",
      "EPOCH: 40  Train accuracy = 1.0\n",
      "EPOCH: 40  Test accuracy  = 0.9802999496459961\n",
      "EPOCH: 41  Train accuracy = 1.0\n",
      "EPOCH: 41  Test accuracy  = 0.9803999662399292\n",
      "EPOCH: 42  Train accuracy = 0.9666666984558105\n",
      "EPOCH: 42  Test accuracy  = 0.9824000000953674\n",
      "EPOCH: 43  Train accuracy = 1.0\n",
      "EPOCH: 43  Test accuracy  = 0.9824999570846558\n",
      "EPOCH: 44  Train accuracy = 1.0\n",
      "EPOCH: 44  Test accuracy  = 0.9819999933242798\n",
      "EPOCH: 45  Train accuracy = 1.0\n",
      "EPOCH: 45  Test accuracy  = 0.9821999669075012\n",
      "EPOCH: 46  Train accuracy = 1.0\n",
      "EPOCH: 46  Test accuracy  = 0.9806999564170837\n",
      "EPOCH: 47  Train accuracy = 1.0\n",
      "EPOCH: 47  Test accuracy  = 0.9811999797821045\n",
      "EPOCH: 48  Train accuracy = 1.0\n",
      "EPOCH: 48  Test accuracy  = 0.9802999496459961\n",
      "EPOCH: 49  Train accuracy = 1.0\n",
      "EPOCH: 49  Test accuracy  = 0.9824000000953674\n",
      "CPU times: user 3min 41s, sys: 1.65 s, total: 3min 43s\n",
      "Wall time: 3min 42s\n"
     ]
    }
   ],
   "source": [
    "%%time\n",
    "acc_train_d, acc_test_d, loss_train_d, loss_test_d = \\\n",
    "    train_model(mnist_net_deep, \n",
    "                optimizer_deep, \n",
    "                loss_deep, \n",
    "                X_train, y_train, \n",
    "                X_test, y_test, \n",
    "                batch_size=30, \n",
    "                epochs=50, \n",
    "                device=device_deep)"
   ]
  },
  {
   "cell_type": "code",
   "execution_count": 21,
   "metadata": {
    "colab": {
     "base_uri": "https://localhost:8080/",
     "height": 265
    },
    "colab_type": "code",
    "executionInfo": {
     "elapsed": 946,
     "status": "ok",
     "timestamp": 1589354615251,
     "user": {
      "displayName": "Roman Zakharov",
      "photoUrl": "",
      "userId": "18255168926005506833"
     },
     "user_tz": -240
    },
    "id": "kLnumX3SpS3u",
    "outputId": "3fac44c4-c749-477c-b315-ee8062289841"
   },
   "outputs": [
    {
     "data": {
      "image/png": "[encoded data removed]",
      "text/plain": [
       "<Figure size 720x504 with 1 Axes>"
      ]
     },
     "metadata": {},
     "output_type": "display_data"
    }
   ],
   "source": [
    "fig, ax = plt.subplots(figsize=(10, 7))\n",
    "\n",
    "ax.set_title('Accuracy')\n",
    "ax.set_xlabel('EPOC')\n",
    "ax.plot(acc_train_l, 'g', label='Train Light' )\n",
    "ax.plot(acc_test_l, 'orange', label='Test Light' )\n",
    "ax.plot(acc_train_d, 'b', label='Train Deep' )\n",
    "ax.plot(acc_test_d, 'r', label='Test Deep' )\n",
    "\n",
    "ax.legend()\n",
    "\n",
    "plt.show()\n"
   ]
  },
  {
   "cell_type": "code",
   "execution_count": 22,
   "metadata": {},
   "outputs": [
    {
     "name": "stdout",
     "output_type": "stream",
     "text": [
      "[Light Max test] Accuracy = 0.9845999479293823, index = 37, Loss = 0.20819313824176788\n",
      "[Deep Max test]  Accuracy = 0.9828999638557434, index = 28, Loss = 0.13925716280937195\n"
     ]
    }
   ],
   "source": [
    "idx_acc_max = np.argmax(acc_test_l)\n",
    "print(f'[Light Max test] Accuracy = {acc_test_l[idx_acc_max]}, index = {idx_acc_max}, Loss = {loss_test_l[idx_acc_max]}')\n",
    "idx_acc_max = np.argmax(acc_test_d)\n",
    "print(f'[Deep Max test]  Accuracy = {acc_test_d[idx_acc_max]}, index = {idx_acc_max}, Loss = {loss_test_d[idx_acc_max]}')"
   ]
  },
  {
   "cell_type": "code",
   "execution_count": 23,
   "metadata": {},
   "outputs": [
    {
     "data": {
      "image/png": "[encoded data removed]",
      "text/plain": [
       "<Figure size 720x504 with 1 Axes>"
      ]
     },
     "metadata": {},
     "output_type": "display_data"
    }
   ],
   "source": [
    "fig, ax = plt.subplots(figsize=(10, 7))\n",
    "\n",
    "ax.set_title('Loss')\n",
    "ax.set_xlabel('EPOC')\n",
    "ax.plot(loss_train_l, 'g', label='Train Light' )\n",
    "ax.plot(loss_test_l, 'orange', label='Test Light' )\n",
    "ax.plot(loss_train_d, 'b', label='Train Deep' )\n",
    "ax.plot(loss_test_d, 'r', label='Test Deep' )\n",
    "ax.legend()\n",
    "\n",
    "plt.show()\n"
   ]
  },
  {
   "cell_type": "code",
   "execution_count": 24,
   "metadata": {
    "colab": {},
    "colab_type": "code",
    "id": "-nu1318JpS3y"
   },
   "outputs": [
    {
     "name": "stdout",
     "output_type": "stream",
     "text": [
      "[Light Min test] Loss = 0.09867030382156372, index = 4, Accuracy = 0.09867030382156372\n",
      "[Deep Min test]  Loss = 0.07549087703227997, index = 2, Accuracy = 0.07549087703227997\n"
     ]
    }
   ],
   "source": [
    "idx_loss_min = np.argmin(loss_test_l)\n",
    "print(f'[Light Min test] Loss = {loss_test_l[idx_loss_min]}, index = {idx_loss_min}, Accuracy = {loss_test_l[idx_loss_min]}')\n",
    "idx_loss_min = np.argmin(loss_test_d)\n",
    "print(f'[Deep Min test]  Loss = {loss_test_d[idx_loss_min]}, index = {idx_loss_min}, Accuracy = {loss_test_d[idx_loss_min]}')"
   ]
  },
  {
   "cell_type": "markdown",
   "metadata": {},
   "source": [
    "<b>Наблюдение:</b>\n",
    "<p>\n",
    "Следующие параметры привели к переобучению\n",
    "<ol>\n",
    "    <li> Смена активации слоев на RELU </li>\n",
    "    <li> Смена оптимизатора на RMSprop и выставление ему шага 1.0e-4 </li>\n",
    "    <li> Увеличиние кол-ва эпох и уменьшение батча также ведет к переобучению </li>\n",
    "    <li> Увеличиние кол-ва слоев увеличило точность модели </li>\n",
    "    <li> Более глубокая сеть переобучается медленне если смотреть на loss </li>\n",
    "</ol>\n"
   ]
  },
  {
   "cell_type": "code",
   "execution_count": null,
   "metadata": {},
   "outputs": [],
   "source": []
  }
 ],
 "metadata": {
  "accelerator": "GPU",
  "colab": {
   "collapsed_sections": [],
   "name": "part5.ipynb",
   "provenance": []
  },
  "kernelspec": {
   "display_name": "Python 3",
   "language": "python",
   "name": "python3"
  },
  "language_info": {
   "codemirror_mode": {
    "name": "ipython",
    "version": 3
   },
   "file_extension": ".py",
   "mimetype": "text/x-python",
   "name": "python",
   "nbconvert_exporter": "python",
   "pygments_lexer": "ipython3",
   "version": "3.8.2"
  }
 },
 "nbformat": 4,
 "nbformat_minor": 4
}
