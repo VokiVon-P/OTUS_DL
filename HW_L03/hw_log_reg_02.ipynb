{
 "cells": [
  {
   "cell_type": "code",
   "execution_count": 1,
   "metadata": {},
   "outputs": [],
   "source": [
    "# !pip install torch==1.5.0+cu101 torchvision==0.6.0+cu101 -f https://download.pytorch.org/whl/torch_stable.html"
   ]
  },
  {
   "cell_type": "code",
   "execution_count": 1,
   "metadata": {},
   "outputs": [],
   "source": [
    "import torch\n",
    "import torch.nn as nn\n",
    "import torch.nn.functional as F\n",
    "import torch.optim as optim\n",
    "\n",
    "import numpy as np\n",
    "import scipy.stats as stats\n",
    "import matplotlib.pyplot as plt\n",
    "\n",
    "%matplotlib inline"
   ]
  },
  {
   "cell_type": "code",
   "execution_count": 2,
   "metadata": {},
   "outputs": [],
   "source": [
    "# параметры распределений\n",
    "mu0, sigma0 = -2., 1.\n",
    "mu1, sigma1 = 3., 2."
   ]
  },
  {
   "cell_type": "code",
   "execution_count": 3,
   "metadata": {},
   "outputs": [],
   "source": [
    "def sample(d0, d1, n=32):\n",
    "    x0 = d0.sample((n,))\n",
    "    x1 = d1.sample((n,))\n",
    "    y0 = torch.zeros((n, 1))\n",
    "    y1 = torch.ones((n, 1))\n",
    "    return torch.cat([x0, x1], 0), torch.cat([y0, y1], 0)"
   ]
  },
  {
   "cell_type": "code",
   "execution_count": 4,
   "metadata": {},
   "outputs": [],
   "source": [
    "d0 = torch.distributions.Normal(torch.tensor([mu0]), torch.tensor([sigma0]))\n",
    "d1 = torch.distributions.Normal(torch.tensor([mu1]), torch.tensor([sigma1]))"
   ]
  },
  {
   "cell_type": "code",
   "execution_count": 5,
   "metadata": {},
   "outputs": [
    {
     "name": "stdout",
     "output_type": "stream",
     "text": [
      "[tensor([-0.8492]), tensor(-0.0236)]\n"
     ]
    }
   ],
   "source": [
    "layer = nn.Linear(1, 1)\n",
    "print([p.data[0] for p in layer.parameters()])\n",
    "layer_opt = optim.SGD(lr=1e-3, params=list(layer.parameters()))"
   ]
  },
  {
   "cell_type": "code",
   "execution_count": 6,
   "metadata": {},
   "outputs": [
    {
     "name": "stdout",
     "output_type": "stream",
     "text": [
      "Ошибка после 0 итераций: 2.327272\n",
      "Ошибка после 1 итераций: 0.626970\n",
      "Ошибка после 2 итераций: 0.340862\n",
      "Ошибка после 3 итераций: 0.262719\n",
      "Ошибка после 4 итераций: 0.225673\n",
      "Ошибка после 5 итераций: 0.203845\n",
      "Ошибка после 6 итераций: 0.189983\n",
      "Ошибка после 7 итераций: 0.180147\n",
      "Ошибка после 8 итераций: 0.172344\n",
      "Ошибка после 9 итераций: 0.165343\n",
      "Ошибка после 10 итераций: 0.162715\n",
      "Ошибка после 11 итераций: 0.159078\n",
      "Ошибка после 12 итераций: 0.155021\n",
      "Ошибка после 13 итераций: 0.152821\n",
      "Ошибка после 14 итераций: 0.152160\n",
      "Ошибка после 15 итераций: 0.147938\n",
      "Ошибка после 16 итераций: 0.147006\n",
      "Ошибка после 17 итераций: 0.146597\n",
      "Ошибка после 18 итераций: 0.143913\n",
      "Ошибка после 19 итераций: 0.141593\n"
     ]
    }
   ],
   "source": [
    "log_freq = 500\n",
    "for i in range(10000):\n",
    "    if i%log_freq == 0:\n",
    "        with torch.no_grad():\n",
    "            x, y = sample(d0, d1, 100000)\n",
    "            out = torch.sigmoid(layer(x))\n",
    "            loss = F.binary_cross_entropy(out, y)\n",
    "        print('Ошибка после %d итераций: %f' %(i/log_freq, loss))\n",
    "    layer_opt.zero_grad()\n",
    "    x, y = sample(d0, d1, 1024)\n",
    "    out = torch.sigmoid(layer(x))\n",
    "    loss = F.binary_cross_entropy(out, y)\n",
    "    loss.backward()\n",
    "    layer_opt.step()"
   ]
  },
  {
   "cell_type": "code",
   "execution_count": 7,
   "metadata": {},
   "outputs": [],
   "source": [
    "x_scale = np.linspace(-10, 10, 5000)\n",
    "d0_pdf = stats.norm.pdf(x_scale, mu0, sigma0) \n",
    "d1_pdf = stats.norm.pdf(x_scale, mu1, sigma1)\n",
    "x_tensor = torch.tensor(x_scale.reshape(-1, 1), dtype=torch.float)\n",
    "with torch.no_grad():\n",
    "    dist = torch.sigmoid(layer(x_tensor)).numpy()\n",
    "ratio = d1_pdf / (d1_pdf + d0_pdf)"
   ]
  },
  {
   "cell_type": "code",
   "execution_count": 8,
   "metadata": {},
   "outputs": [
    {
     "data": {
      "image/png": "[encoded data removed]",
      "text/plain": [
       "<Figure size 432x288 with 1 Axes>"
      ]
     },
     "metadata": {
      "needs_background": "light"
     },
     "output_type": "display_data"
    }
   ],
   "source": [
    "plt.plot(x_scale, d0_pdf*2, label='d0') # умножение на 2 для красоты графиков, на распределения не влияет\n",
    "plt.plot(x_scale, d1_pdf*2, label='d1')\n",
    "plt.plot(x_scale, dist.flatten(), label='pred')\n",
    "plt.plot(x_scale, ratio, label='ratio')\n",
    "plt.legend();"
   ]
  },
  {
   "cell_type": "code",
   "execution_count": 9,
   "metadata": {},
   "outputs": [
    {
     "name": "stdout",
     "output_type": "stream",
     "text": [
      "[tensor([1.4856]), tensor(-0.0571)]\n"
     ]
    }
   ],
   "source": [
    "print([p.data[0] for p in layer.parameters()])"
   ]
  },
  {
   "cell_type": "code",
   "execution_count": 10,
   "metadata": {},
   "outputs": [
    {
     "name": "stderr",
     "output_type": "stream",
     "text": [
      "/mnt/develop/_DS_/_env_/lib/python3.8/site-packages/torch/nn/functional.py:1569: UserWarning: nn.functional.sigmoid is deprecated. Use torch.sigmoid instead.\n",
      "  warnings.warn(\"nn.functional.sigmoid is deprecated. Use torch.sigmoid instead.\")\n"
     ]
    },
    {
     "data": {
      "text/plain": [
       "tensor(-inf)"
      ]
     },
     "execution_count": 10,
     "metadata": {},
     "output_type": "execute_result"
    }
   ],
   "source": [
    "torch.log(F.sigmoid(torch.tensor(-100.)))"
   ]
  },
  {
   "cell_type": "code",
   "execution_count": 11,
   "metadata": {},
   "outputs": [
    {
     "data": {
      "text/plain": [
       "tensor(-100.)"
      ]
     },
     "execution_count": 11,
     "metadata": {},
     "output_type": "execute_result"
    }
   ],
   "source": [
    "F.logsigmoid(torch.tensor(-100.))"
   ]
  },
  {
   "cell_type": "code",
   "execution_count": null,
   "metadata": {
    "collapsed": true,
    "jupyter": {
     "outputs_hidden": true
    }
   },
   "outputs": [],
   "source": []
  }
 ],
 "metadata": {
  "kernelspec": {
   "display_name": "Python 3",
   "language": "python",
   "name": "python3"
  },
  "language_info": {
   "codemirror_mode": {
    "name": "ipython",
    "version": 3
   },
   "file_extension": ".py",
   "mimetype": "text/x-python",
   "name": "python",
   "nbconvert_exporter": "python",
   "pygments_lexer": "ipython3",
   "version": "3.8.2"
  }
 },
 "nbformat": 4,
 "nbformat_minor": 4
}
