{
 "cells": [
  {
   "cell_type": "code",
   "execution_count": 1,
   "metadata": {},
   "outputs": [],
   "source": [
    "# !pip install torch==1.5.0+cu101 torchvision==0.6.0+cu101 -f https://download.pytorch.org/whl/torch_stable.html"
   ]
  },
  {
   "cell_type": "code",
   "execution_count": 2,
   "metadata": {},
   "outputs": [],
   "source": [
    "import torch\n",
    "import torch.nn as nn\n",
    "\n",
    "import torch.nn.functional as F\n",
    "import torch.optim as optim\n",
    "\n",
    "import numpy as np\n",
    "import scipy.stats as stats\n",
    "import matplotlib.pyplot as plt\n",
    "\n",
    "%matplotlib inline"
   ]
  },
  {
   "cell_type": "code",
   "execution_count": 3,
   "metadata": {},
   "outputs": [],
   "source": [
    "# параметры распределений\n",
    "mu0, sigma0 = -2., 1.\n",
    "mu1, sigma1 = 3., 2."
   ]
  },
  {
   "cell_type": "markdown",
   "metadata": {},
   "source": [
    "==========================================================================="
   ]
  },
  {
   "cell_type": "code",
   "execution_count": 4,
   "metadata": {},
   "outputs": [],
   "source": [
    "# добавим еще одно измерение в генератор данных\n",
    "# теперь будут два облака с центром в мат ожидании, и разбросом по дисперсии\n",
    "def sample(d0, d1, n=32):\n",
    "    # 1 облако\n",
    "    x0_0 = d0.sample((n,))\n",
    "    x0_1 = d0.sample((n,))\n",
    "    x0 = torch.cat([x0_0, x0_1], 1)\n",
    "    # 2 облако\n",
    "    x1_0 = d1.sample((n,))\n",
    "    x1_1 = d1.sample((n,))\n",
    "    x1 = torch.cat([x1_0, x1_1], 1)\n",
    "    \n",
    "    y0 = torch.zeros((n, 1))\n",
    "    y1 = torch.ones((n, 1))\n",
    "    return torch.cat([x0, x1], 0), torch.cat([y0, y1], 0)"
   ]
  },
  {
   "cell_type": "code",
   "execution_count": 5,
   "metadata": {},
   "outputs": [],
   "source": [
    "d0 = torch.distributions.Normal(torch.tensor([mu0]), torch.tensor([sigma0]))\n",
    "d1 = torch.distributions.Normal(torch.tensor([mu1]), torch.tensor([sigma1]))"
   ]
  },
  {
   "cell_type": "code",
   "execution_count": 6,
   "metadata": {},
   "outputs": [
    {
     "name": "stdout",
     "output_type": "stream",
     "text": [
      "[tensor([0.3552, 0.6981]), tensor(-0.0659)]\n"
     ]
    }
   ],
   "source": [
    "# внесем измениение кол-во входных параметров = 2\n",
    "layer = nn.Linear(2, 1)\n",
    "print([p.data[0] for p in layer.parameters()])\n",
    "layer_opt = optim.SGD(lr=1e-3, params=list(layer.parameters()))"
   ]
  },
  {
   "cell_type": "code",
   "execution_count": 7,
   "metadata": {},
   "outputs": [
    {
     "name": "stdout",
     "output_type": "stream",
     "text": [
      "Ошибка после 0 итераций: 0.126187\n",
      "Ошибка после 1 итераций: 0.103830\n",
      "Ошибка после 2 итераций: 0.091021\n",
      "Ошибка после 3 итераций: 0.081668\n",
      "Ошибка после 4 итераций: 0.074939\n",
      "Ошибка после 5 итераций: 0.070154\n",
      "Ошибка после 6 итераций: 0.065590\n",
      "Ошибка после 7 итераций: 0.062509\n",
      "Ошибка после 8 итераций: 0.060329\n",
      "Ошибка после 9 итераций: 0.057359\n",
      "Ошибка после 10 итераций: 0.055081\n",
      "Ошибка после 11 итераций: 0.053540\n",
      "Ошибка после 12 итераций: 0.051790\n",
      "Ошибка после 13 итераций: 0.050821\n",
      "Ошибка после 14 итераций: 0.049790\n",
      "Ошибка после 15 итераций: 0.049170\n",
      "Ошибка после 16 итераций: 0.047084\n",
      "Ошибка после 17 итераций: 0.046567\n",
      "Ошибка после 18 итераций: 0.045091\n",
      "Ошибка после 19 итераций: 0.045264\n",
      "CPU times: user 5.92 s, sys: 377 ms, total: 6.3 s\n",
      "Wall time: 4.61 s\n"
     ]
    }
   ],
   "source": [
    "%%time\n",
    "log_freq = 500\n",
    "for i in range(10000):\n",
    "    if i%log_freq == 0:\n",
    "        with torch.no_grad():\n",
    "            x, y = sample(d0, d1, 100000)\n",
    "            out = torch.sigmoid(layer(x))\n",
    "            loss = F.binary_cross_entropy(out, y)\n",
    "        print('Ошибка после %d итераций: %f' %(i/log_freq, loss))\n",
    "    layer_opt.zero_grad()\n",
    "    x, y = sample(d0, d1, 1024)\n",
    "    out = torch.sigmoid(layer(x))\n",
    "    loss = F.binary_cross_entropy(out, y)\n",
    "    loss.backward()\n",
    "    layer_opt.step()"
   ]
  },
  {
   "cell_type": "markdown",
   "metadata": {},
   "source": [
    "<b>Вопрос:</b>\n",
    "Для графиков нужна проверка(тестовые данные). Для проверки мы брали функцию плотности вероятности по одному измерению. Есть ли что то подобное для нескольких измерений? Или это только ручками реализовывать?\n"
   ]
  },
  {
   "cell_type": "code",
   "execution_count": null,
   "metadata": {},
   "outputs": [],
   "source": []
  }
 ],
 "metadata": {
  "kernelspec": {
   "display_name": "Python 3",
   "language": "python",
   "name": "python3"
  },
  "language_info": {
   "codemirror_mode": {
    "name": "ipython",
    "version": 3
   },
   "file_extension": ".py",
   "mimetype": "text/x-python",
   "name": "python",
   "nbconvert_exporter": "python",
   "pygments_lexer": "ipython3",
   "version": "3.8.2"
  }
 },
 "nbformat": 4,
 "nbformat_minor": 4
}
