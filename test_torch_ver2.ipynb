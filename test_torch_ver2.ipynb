{
 "cells": [
  {
   "cell_type": "code",
   "execution_count": 1,
   "metadata": {},
   "outputs": [],
   "source": [
    "import torch\n",
    "from torch import utils\n",
    "from torchvision import datasets, transforms\n",
    "\n",
    "from torch.utils.data import DataLoader\n",
    "\n",
    "\n",
    "import matplotlib\n",
    "import matplotlib.pyplot as plt\n",
    "import numpy as np\n",
    "%matplotlib inline"
   ]
  },
  {
   "cell_type": "code",
   "execution_count": 2,
   "metadata": {},
   "outputs": [],
   "source": [
    "path='./MNIST_data'"
   ]
  },
  {
   "cell_type": "markdown",
   "metadata": {},
   "source": [
    "#### Смотрим на данные"
   ]
  },
  {
   "cell_type": "code",
   "execution_count": 3,
   "metadata": {
    "scrolled": true
   },
   "outputs": [
    {
     "data": {
      "text/plain": [
       "Dataset MNIST\n",
       "    Number of datapoints: 60000\n",
       "    Root location: ./MNIST_data\n",
       "    Split: Train"
      ]
     },
     "execution_count": 3,
     "metadata": {},
     "output_type": "execute_result"
    }
   ],
   "source": [
    "train_data = datasets.MNIST(path, train=True, download=True)\n",
    "train_data\n"
   ]
  },
  {
   "cell_type": "code",
   "execution_count": 4,
   "metadata": {},
   "outputs": [
    {
     "name": "stdout",
     "output_type": "stream",
     "text": [
      "кол-во элементов в датасете: 60000\n",
      "тип элемента:  <class 'tuple'>\n",
      "длинна элемента:  2\n"
     ]
    }
   ],
   "source": [
    "# параметры датасета\n",
    "len_train = len(train_data)\n",
    "print(f\"кол-во элементов в датасете: {len_train}\")\n",
    "print(f\"тип элемента:  {type(train_data[0])}\")\n",
    "print(f\"длинна элемента:  {len(train_data[0])}\")"
   ]
  },
  {
   "cell_type": "code",
   "execution_count": 5,
   "metadata": {},
   "outputs": [
    {
     "name": "stdout",
     "output_type": "stream",
     "text": [
      "<class 'torch.Tensor'>\n",
      "torch.Size([28, 28])\n"
     ]
    }
   ],
   "source": [
    "# посмотрим на содержимое \n",
    "print(type(train_data.data[0]))\n",
    "print(train_data.data[0].shape)\n",
    "\n"
   ]
  },
  {
   "cell_type": "markdown",
   "metadata": {},
   "source": [
    "#### Вычисления и преобразования"
   ]
  },
  {
   "cell_type": "code",
   "execution_count": 36,
   "metadata": {},
   "outputs": [],
   "source": [
    "def get_train_mean_std(train_set):\n",
    "    \"\"\"\n",
    "    Получаем тренировочный датасет\n",
    "    Возвращаем кортеж (mean, std) \n",
    "    ==============================\n",
    "    \"\"\"   \n",
    "    #tr = transforms.ToTensor()\n",
    "    #items = tr(train_set.data.numpy())\n",
    "    \n",
    "    # обращаемся к сырым дынным и трансформируем их \n",
    "    m_ = train_set.data.numpy().mean()/255.0\n",
    "    std_ = train_set.data.numpy().std()/255.0\n",
    "    return m_, std_"
   ]
  },
  {
   "cell_type": "code",
   "execution_count": 37,
   "metadata": {
    "scrolled": true
   },
   "outputs": [
    {
     "name": "stdout",
     "output_type": "stream",
     "text": [
      "Mean = 0.1306604762738429\n",
      "Std = 0.30810780385646264\n"
     ]
    }
   ],
   "source": [
    "# получим статистики\n",
    "k_mean, k_std = get_train_mean_std(train_data)\n",
    "print(f\"Mean = {k_mean}\\nStd = {k_std}\")"
   ]
  },
  {
   "cell_type": "markdown",
   "metadata": {},
   "source": [
    "#### проверяем результат"
   ]
  },
  {
   "cell_type": "code",
   "execution_count": 38,
   "metadata": {},
   "outputs": [],
   "source": [
    "# создаем свой трансформ\n",
    "mnist_transform = transforms.Compose([\n",
    "                transforms.ToTensor(),\n",
    "                transforms.Normalize((k_mean,), (k_std,)),\n",
    "                ])"
   ]
  },
  {
   "cell_type": "code",
   "execution_count": 39,
   "metadata": {},
   "outputs": [
    {
     "name": "stdout",
     "output_type": "stream",
     "text": [
      "torch.Size([28, 60000, 28])\n",
      "\n",
      "Mean = 0.0\n",
      "Std = 1.0000001192092896\n"
     ]
    }
   ],
   "source": [
    "# подготавливаем данные и нормализуем\n",
    "items = mnist_transform(train_data.data.numpy())\n",
    "\n",
    "print(items.shape)\n",
    "print()\n",
    "print(f\"Mean = {items.mean().round()}\\nStd = {items.std()}\")\n"
   ]
  },
  {
   "cell_type": "markdown",
   "metadata": {},
   "source": [
    "### OK!\n"
   ]
  },
  {
   "cell_type": "markdown",
   "metadata": {},
   "source": [
    "##### Проверяем transform - вариант 1"
   ]
  },
  {
   "cell_type": "code",
   "execution_count": 40,
   "metadata": {},
   "outputs": [],
   "source": [
    "train_data_mod = datasets.MNIST(path, train=True, download=True, transform=mnist_transform)"
   ]
  },
  {
   "cell_type": "markdown",
   "metadata": {},
   "source": [
    "проверка"
   ]
  },
  {
   "cell_type": "code",
   "execution_count": 41,
   "metadata": {},
   "outputs": [
    {
     "name": "stdout",
     "output_type": "stream",
     "text": [
      "torch.Size([60000, 1, 28, 28])\n",
      "Mean = -0.0\n",
      "Std = 1.0\n"
     ]
    }
   ],
   "source": [
    "mnist_dl = DataLoader(dataset=train_data_mod, batch_size=len(train_data_mod))\n",
    "items, _ = next(iter(mnist_dl))\n",
    "\n",
    "print(items.shape)\n",
    "print(f\"Mean = {items.mean().round()}\\nStd = {items.std().round()}\")"
   ]
  },
  {
   "cell_type": "markdown",
   "metadata": {},
   "source": [
    "##### Создаем свой класс transform - вариант 2\n",
    "тоже самое но скрываем все в классе"
   ]
  },
  {
   "cell_type": "code",
   "execution_count": 42,
   "metadata": {},
   "outputs": [],
   "source": [
    "import torchvision.transforms.functional as TF\n",
    "\n",
    "class MNIST_Transform:\n",
    "    \n",
    "    def __init__(self, mean, std, inplace=False):\n",
    "        self.mean = mean\n",
    "        self.std = std\n",
    "        self.inplace = inplace\n",
    "\n",
    "    def __call__(self, image):\n",
    "        \"\"\"\n",
    "        Args:\n",
    "            image: PIL image of size (C, H, W) to be normalized.\n",
    "\n",
    "        Returns:\n",
    "            Tensor: Normalized Tensor image.\n",
    "        \"\"\"\n",
    "        return TF.normalize(TF.to_tensor(image), self.mean, self.std, self.inplace)\n",
    "\n",
    "\n",
    "    def __repr__(self):\n",
    "        return self.__class__.__name__ + '(mean={0}, std={1})'.format(self.mean, self.std)\n",
    "\n",
    "    "
   ]
  },
  {
   "cell_type": "code",
   "execution_count": 43,
   "metadata": {},
   "outputs": [],
   "source": [
    "mnist_class_transform = MNIST_Transform((k_mean,), (k_std,))"
   ]
  },
  {
   "cell_type": "code",
   "execution_count": 44,
   "metadata": {},
   "outputs": [],
   "source": [
    "train_data_mod = datasets.MNIST(path, train=True, download=True, transform=mnist_class_transform)"
   ]
  },
  {
   "cell_type": "markdown",
   "metadata": {},
   "source": [
    "проверка"
   ]
  },
  {
   "cell_type": "code",
   "execution_count": 45,
   "metadata": {},
   "outputs": [
    {
     "name": "stdout",
     "output_type": "stream",
     "text": [
      "torch.Size([60000, 1, 28, 28])\n",
      "Mean = -0.0\n",
      "Std = 1.0\n"
     ]
    }
   ],
   "source": [
    "mnist_dl = DataLoader(dataset=train_data_mod, batch_size=len(train_data_mod))\n",
    "items, _ = next(iter(mnist_dl))\n",
    "\n",
    "print(items.shape)\n",
    "print(f\"Mean = {items.mean().round()}\\nStd = {items.std().round()}\")"
   ]
  },
  {
   "cell_type": "code",
   "execution_count": null,
   "metadata": {},
   "outputs": [],
   "source": []
  }
 ],
 "metadata": {
  "kernelspec": {
   "display_name": "Python 3",
   "language": "python",
   "name": "python3"
  },
  "language_info": {
   "codemirror_mode": {
    "name": "ipython",
    "version": 3
   },
   "file_extension": ".py",
   "mimetype": "text/x-python",
   "name": "python",
   "nbconvert_exporter": "python",
   "pygments_lexer": "ipython3",
   "version": "3.6.9"
  }
 },
 "nbformat": 4,
 "nbformat_minor": 2
}
