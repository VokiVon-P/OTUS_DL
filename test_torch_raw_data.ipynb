{
 "cells": [
  {
   "cell_type": "code",
   "execution_count": 1,
   "metadata": {},
   "outputs": [],
   "source": [
    "import torch\n",
    "from torch import utils\n",
    "from torchvision import datasets, transforms\n",
    "\n",
    "from torch.utils.data import DataLoader\n",
    "\n",
    "\n",
    "import matplotlib\n",
    "import matplotlib.pyplot as plt\n",
    "import numpy as np\n",
    "%matplotlib inline"
   ]
  },
  {
   "cell_type": "code",
   "execution_count": 2,
   "metadata": {},
   "outputs": [],
   "source": [
    "path='./MNIST_data'"
   ]
  },
  {
   "cell_type": "markdown",
   "metadata": {},
   "source": [
    "#### Смотрим на данные"
   ]
  },
  {
   "cell_type": "code",
   "execution_count": 3,
   "metadata": {
    "scrolled": true
   },
   "outputs": [
    {
     "data": {
      "text/plain": [
       "Dataset MNIST\n",
       "    Number of datapoints: 60000\n",
       "    Root location: ./MNIST_data\n",
       "    Split: Train"
      ]
     },
     "execution_count": 3,
     "metadata": {},
     "output_type": "execute_result"
    }
   ],
   "source": [
    "train_data = datasets.MNIST(path, train=True, download=True)\n",
    "train_data\n"
   ]
  },
  {
   "cell_type": "code",
   "execution_count": 4,
   "metadata": {},
   "outputs": [
    {
     "name": "stdout",
     "output_type": "stream",
     "text": [
      "кол-во элементов в датасете: 60000\n",
      "тип элемента:  <class 'tuple'>\n",
      "длинна элемента:  2\n"
     ]
    }
   ],
   "source": [
    "# параметры датасета\n",
    "len_train = len(train_data)\n",
    "print(f\"кол-во элементов в датасете: {len_train}\")\n",
    "print(f\"тип элемента:  {type(train_data[0])}\")\n",
    "print(f\"длинна элемента:  {len(train_data[0])}\")"
   ]
  },
  {
   "cell_type": "code",
   "execution_count": 5,
   "metadata": {},
   "outputs": [
    {
     "name": "stdout",
     "output_type": "stream",
     "text": [
      "<class 'torch.Tensor'>\n",
      "torch.Size([28, 28])\n"
     ]
    }
   ],
   "source": [
    "# посмотрим на содержимое \n",
    "print(type(train_data.data[0]))\n",
    "print(train_data.data[0].shape)\n",
    "\n"
   ]
  },
  {
   "cell_type": "markdown",
   "metadata": {},
   "source": [
    "#### Вычисления и преобразования"
   ]
  },
  {
   "cell_type": "code",
   "execution_count": 6,
   "metadata": {},
   "outputs": [],
   "source": [
    "def get_train_mean_std(train_set):\n",
    "    \"\"\"\n",
    "    Получаем тренировочный датасет\n",
    "    Возвращаем кортеж (mean, std) \n",
    "    ==============================\n",
    "    \"\"\"   \n",
    "    # обращаемся к сырым дынным и трансформируем их \n",
    "    items = train_set.data.numpy()\n",
    "    print(items.shape)\n",
    "    return items.mean(), items.std()"
   ]
  },
  {
   "cell_type": "code",
   "execution_count": 7,
   "metadata": {},
   "outputs": [
    {
     "name": "stdout",
     "output_type": "stream",
     "text": [
      "(60000, 28, 28)\n",
      "Mean = 33.318421449829934\n",
      "Std = 78.56748998339798\n"
     ]
    }
   ],
   "source": [
    "# получим статистики\n",
    "k_mean, k_std = get_train_mean_std(train_data)\n",
    "print(f\"Mean = {k_mean}\\nStd = {k_std}\")"
   ]
  },
  {
   "cell_type": "markdown",
   "metadata": {},
   "source": [
    "#### проверяем результат"
   ]
  },
  {
   "cell_type": "code",
   "execution_count": 8,
   "metadata": {},
   "outputs": [
    {
     "name": "stdout",
     "output_type": "stream",
     "text": [
      "torch.Size([60000, 28, 28])\n",
      "\n",
      "Mean = -0.0\n",
      "Std = 1.0\n"
     ]
    }
   ],
   "source": [
    "# создаем свой трансформ\n",
    "tr = transforms.Normalize((k_mean,), (k_std,))\n",
    "# подготавливаем данные - float и нормализуем\n",
    "items = tr(train_data.data.float())\n",
    "\n",
    "print(items.shape)\n",
    "#print(items[0])\n",
    "print()\n",
    "print(f\"Mean = {items.mean().round()}\\nStd = {items.std()}\")\n"
   ]
  },
  {
   "cell_type": "markdown",
   "metadata": {},
   "source": [
    "### OK!\n"
   ]
  },
  {
   "cell_type": "markdown",
   "metadata": {},
   "source": [
    "##### Создаем свой transform - вариант 1"
   ]
  },
  {
   "cell_type": "code",
   "execution_count": 9,
   "metadata": {},
   "outputs": [],
   "source": [
    "mnist_transform = transforms.Compose([\n",
    "                transforms.Lambda(lambda x : np.array(x, dtype=float)),\n",
    "                transforms.ToTensor(),\n",
    "                transforms.Normalize((k_mean,), (k_std,)),\n",
    "                ])"
   ]
  },
  {
   "cell_type": "code",
   "execution_count": 10,
   "metadata": {},
   "outputs": [],
   "source": [
    "train_data_mod = datasets.MNIST(path, train=True, download=True, transform=mnist_transform)\n",
    "#train_data_mod[0][0]"
   ]
  },
  {
   "cell_type": "markdown",
   "metadata": {},
   "source": [
    "проверка"
   ]
  },
  {
   "cell_type": "code",
   "execution_count": 11,
   "metadata": {},
   "outputs": [
    {
     "name": "stdout",
     "output_type": "stream",
     "text": [
      "torch.Size([60000, 1, 28, 28])\n",
      "Mean = -0.0\n",
      "Std = 1.0\n"
     ]
    }
   ],
   "source": [
    "mnist_dl = DataLoader(dataset=train_data_mod, batch_size=len(train_data_mod))\n",
    "items, _ = next(iter(mnist_dl))\n",
    "\n",
    "print(items.shape)\n",
    "print(f\"Mean = {items.mean().round()}\\nStd = {items.std().round()}\")"
   ]
  },
  {
   "cell_type": "markdown",
   "metadata": {},
   "source": [
    "##### Создаем свой transform - вариант 2\n",
    "тоже самое но скрываем все в классе"
   ]
  },
  {
   "cell_type": "code",
   "execution_count": 12,
   "metadata": {},
   "outputs": [],
   "source": [
    "import torchvision.transforms.functional as TF\n",
    "\n",
    "class MNIST_Transform:\n",
    "    \n",
    "    def __init__(self, mean, std, inplace=False):\n",
    "        self.mean = mean\n",
    "        self.std = std\n",
    "        self.inplace = inplace\n",
    "\n",
    "    def __call__(self, image):\n",
    "        \"\"\"\n",
    "        Args:\n",
    "            image: PIL image of size (C, H, W) to be normalized.\n",
    "\n",
    "        Returns:\n",
    "            Tensor: Normalized Tensor image.\n",
    "        \"\"\"\n",
    "        arr = np.array(image, dtype=float)\n",
    "        return TF.normalize(TF.to_tensor(arr), self.mean, self.std, self.inplace)\n",
    "\n",
    "\n",
    "    def __repr__(self):\n",
    "        return self.__class__.__name__ + '(mean={0}, std={1})'.format(self.mean, self.std)\n",
    "\n",
    "    "
   ]
  },
  {
   "cell_type": "code",
   "execution_count": 13,
   "metadata": {},
   "outputs": [],
   "source": [
    "mnist_class_transform = MNIST_Transform((k_mean,), (k_std,))"
   ]
  },
  {
   "cell_type": "code",
   "execution_count": 14,
   "metadata": {},
   "outputs": [],
   "source": [
    "train_data_mod = datasets.MNIST(path, train=True, download=True, transform=mnist_class_transform)\n",
    "#train_data_mod[0][0]"
   ]
  },
  {
   "cell_type": "markdown",
   "metadata": {},
   "source": [
    "проверка"
   ]
  },
  {
   "cell_type": "code",
   "execution_count": 15,
   "metadata": {},
   "outputs": [
    {
     "name": "stdout",
     "output_type": "stream",
     "text": [
      "torch.Size([60000, 1, 28, 28])\n",
      "Mean = -0.0\n",
      "Std = 1.0\n"
     ]
    }
   ],
   "source": [
    "mnist_dl = DataLoader(dataset=train_data_mod, batch_size=len(train_data_mod))\n",
    "items, _ = next(iter(mnist_dl))\n",
    "\n",
    "print(items.shape)\n",
    "print(f\"Mean = {items.mean().round()}\\nStd = {items.std().round()}\")"
   ]
  },
  {
   "cell_type": "code",
   "execution_count": null,
   "metadata": {},
   "outputs": [],
   "source": []
  }
 ],
 "metadata": {
  "kernelspec": {
   "display_name": "Python 3",
   "language": "python",
   "name": "python3"
  },
  "language_info": {
   "codemirror_mode": {
    "name": "ipython",
    "version": 3
   },
   "file_extension": ".py",
   "mimetype": "text/x-python",
   "name": "python",
   "nbconvert_exporter": "python",
   "pygments_lexer": "ipython3",
   "version": "3.6.9"
  }
 },
 "nbformat": 4,
 "nbformat_minor": 2
}
