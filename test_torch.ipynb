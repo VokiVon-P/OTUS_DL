{
 "cells": [
  {
   "cell_type": "code",
   "execution_count": 79,
   "metadata": {},
   "outputs": [],
   "source": [
    "import torch\n",
    "from torch import utils\n",
    "from torchvision import datasets, transforms\n",
    "\n",
    "from torch.utils.data import DataLoader\n",
    "\n",
    "\n",
    "import matplotlib\n",
    "import matplotlib.pyplot as plt\n",
    "import numpy as np\n",
    "%matplotlib inline"
   ]
  },
  {
   "cell_type": "code",
   "execution_count": 80,
   "metadata": {},
   "outputs": [],
   "source": [
    "path='./MNIST_data'"
   ]
  },
  {
   "cell_type": "markdown",
   "metadata": {},
   "source": [
    "#### Смотрим на данные"
   ]
  },
  {
   "cell_type": "code",
   "execution_count": 81,
   "metadata": {
    "scrolled": true
   },
   "outputs": [
    {
     "data": {
      "text/plain": [
       "Dataset MNIST\n",
       "    Number of datapoints: 60000\n",
       "    Root location: ./MNIST_data\n",
       "    Split: Train\n",
       "    StandardTransform\n",
       "Transform: ToTensor()"
      ]
     },
     "execution_count": 81,
     "metadata": {},
     "output_type": "execute_result"
    }
   ],
   "source": [
    "train_data = datasets.MNIST(path, train=True, download=True, transform=transforms.ToTensor())\n",
    "train_data\n"
   ]
  },
  {
   "cell_type": "code",
   "execution_count": 82,
   "metadata": {},
   "outputs": [
    {
     "name": "stdout",
     "output_type": "stream",
     "text": [
      "кол-во элементов в датасете: 60000\n",
      "тип элемента:  <class 'tuple'>\n",
      "длинна элемента:  2\n"
     ]
    }
   ],
   "source": [
    "# параметры датасета\n",
    "len_train = len(train_data)\n",
    "print(f\"кол-во элементов в датасете: {len_train}\")\n",
    "print(f\"тип элемента:  {type(train_data[0])}\")\n",
    "print(f\"длинна элемента:  {len(train_data[0])}\")"
   ]
  },
  {
   "cell_type": "code",
   "execution_count": 83,
   "metadata": {},
   "outputs": [
    {
     "name": "stdout",
     "output_type": "stream",
     "text": [
      "torch.Size([1, 28, 28])\n",
      "min: 0.0 max: 1.0\n"
     ]
    }
   ],
   "source": [
    "# посмотрим на содержимое \n",
    "item = train_data[0][0] \n",
    "print(item.shape)\n",
    "print(f\"min: {item.min()} max: {item.max()}\")\n",
    "#train_data[0][0]"
   ]
  },
  {
   "cell_type": "code",
   "execution_count": 119,
   "metadata": {},
   "outputs": [
    {
     "data": {
      "text/plain": [
       "tensor(0.3081)"
      ]
     },
     "execution_count": 119,
     "metadata": {},
     "output_type": "execute_result"
    }
   ],
   "source": [
    "tensors = train_data.transform(train_data.data.numpy())\n",
    "tensors.mean()\n",
    "tensors.std()"
   ]
  },
  {
   "cell_type": "markdown",
   "metadata": {},
   "source": [
    "#### Вычисления и преобразования"
   ]
  },
  {
   "cell_type": "markdown",
   "metadata": {},
   "source": [
    "Судя по всему, при загрузке, по умолчанию была произведена min-max нормализация\n",
    "Наша задача сделать std нормализацию \n",
    "Для этого найдем среднее и стандартное отклонение"
   ]
  },
  {
   "cell_type": "code",
   "execution_count": 132,
   "metadata": {},
   "outputs": [],
   "source": [
    "def get_train_mean_std(train_set):\n",
    "    \"\"\"\n",
    "    Получаем тренировочный датасет\n",
    "    Возвращаем кортеж (mean, std) \n",
    "    ==============================\n",
    "    \n",
    "    Version 01:\n",
    "    items_ = [train_set[i][0].numpy() for i in range(len(train_set))]\n",
    "    mean_ = np.mean(items_)\n",
    "    std_ = np.std(items_)\n",
    "    return mean_, std_ \n",
    "    \n",
    "    Version 02:\n",
    "    # загружаем и приводим к тензору данные из тренировочного датасета\n",
    "    mnist_dl = DataLoader(dataset=train_set, batch_size=len(train_set))\n",
    "    items, _ = next(iter(mnist_dl))\n",
    "    print(items.shape)\n",
    "\n",
    "    \"\"\"\n",
    "   \n",
    "    # обращаемся к сырым дынным и трансформируем их \n",
    "    items = train_set.transform(train_set.data.numpy())\n",
    "    print(items.shape)\n",
    "    return float(items.mean()), float(items.std())"
   ]
  },
  {
   "cell_type": "code",
   "execution_count": 133,
   "metadata": {},
   "outputs": [
    {
     "name": "stdout",
     "output_type": "stream",
     "text": [
      "torch.Size([28, 60000, 28])\n",
      "Mean = 0.13062907755374908\n",
      "Std = 0.30810782313346863\n"
     ]
    }
   ],
   "source": [
    "# получим расчетные данные\n",
    "k_mean, k_std = get_train_mean_std(train_data)\n",
    "print(f\"Mean = {k_mean}\\nStd = {k_std}\")"
   ]
  },
  {
   "cell_type": "code",
   "execution_count": 134,
   "metadata": {},
   "outputs": [],
   "source": [
    "mnist_transform = transforms.Compose([\n",
    "                transforms.ToTensor(),\n",
    "                transforms.Normalize((k_mean,), (k_std,))\n",
    "                ])"
   ]
  },
  {
   "cell_type": "code",
   "execution_count": 135,
   "metadata": {},
   "outputs": [],
   "source": [
    "\n",
    "# загружаем с модифицированной нормализацией\n",
    "train_data_mod = datasets.MNIST(path, train=True, download=True, transform=mnist_transform)"
   ]
  },
  {
   "cell_type": "code",
   "execution_count": 136,
   "metadata": {},
   "outputs": [
    {
     "name": "stdout",
     "output_type": "stream",
     "text": [
      "torch.Size([28, 60000, 28])\n",
      "Mean = 0.00112\n",
      "Std = 1.0\n"
     ]
    }
   ],
   "source": [
    "# проверяем результат\n",
    "mod_mean, mod_std = get_train_mean_std(train_data_mod)\n",
    "print(f\"Mean = {np.round(mod_mean,5)}\\nStd = {np.round(mod_std, 5)}\")"
   ]
  },
  {
   "cell_type": "markdown",
   "metadata": {},
   "source": [
    "### OK!\n"
   ]
  },
  {
   "cell_type": "code",
   "execution_count": null,
   "metadata": {},
   "outputs": [],
   "source": []
  }
 ],
 "metadata": {
  "kernelspec": {
   "display_name": "Python 3",
   "language": "python",
   "name": "python3"
  },
  "language_info": {
   "codemirror_mode": {
    "name": "ipython",
    "version": 3
   },
   "file_extension": ".py",
   "mimetype": "text/x-python",
   "name": "python",
   "nbconvert_exporter": "python",
   "pygments_lexer": "ipython3",
   "version": "3.6.9"
  }
 },
 "nbformat": 4,
 "nbformat_minor": 2
}
